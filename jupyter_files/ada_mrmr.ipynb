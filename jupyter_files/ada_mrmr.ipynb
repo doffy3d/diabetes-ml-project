{
 "cells": [
  {
   "cell_type": "code",
   "execution_count": 1,
   "id": "23243470-0357-415e-bcb4-c97bdc4dd027",
   "metadata": {},
   "outputs": [],
   "source": [
    "import warnings\n",
    "warnings.filterwarnings('ignore')\n",
    "\n",
    "# Import Necessary libraries\n",
    "import numpy as np \n",
    "import pandas as pd \n",
    "\n",
    "# Import Model\n",
    "from sklearn.model_selection import train_test_split, GridSearchCV\n",
    "from sklearn.preprocessing import StandardScaler, OneHotEncoder\n",
    "from sklearn.compose import ColumnTransformer\n",
    "from sklearn.ensemble import AdaBoostClassifier\n",
    "from sklearn.tree import DecisionTreeClassifier\n",
    "from sklearn.metrics import accuracy_score, classification_report\n",
    "from sklearn.pipeline import Pipeline\n",
    "\n",
    "# Import Sampler libraries\n",
    "from imblearn.over_sampling import SMOTE\n",
    "from imblearn.under_sampling import RandomUnderSampler\n",
    "from imblearn.pipeline import Pipeline as imbPipeline\n",
    "\n",
    "# Import MRMR (Minimum Redundancy Maximum Relevance) feature selection\n",
    "from skfeature.function.information_theoretical_based import MRMR"
   ]
  },
  {
   "cell_type": "code",
   "execution_count": 2,
   "id": "1de7cbdf-060e-4c1a-94ee-f5757541e4ce",
   "metadata": {},
   "outputs": [],
   "source": [
    "# Set the decimal format\n",
    "pd.options.display.float_format = \"{:.2f}\".format"
   ]
  },
  {
   "cell_type": "code",
   "execution_count": 3,
   "id": "3ace4016-db1b-4a50-8db2-fa8e480d3362",
   "metadata": {},
   "outputs": [],
   "source": [
    "# Read the data\n",
    "df = pd.read_csv(\"diabetes_prediction_dataset.csv\")"
   ]
  },
  {
   "cell_type": "code",
   "execution_count": 4,
   "id": "8b4a668b-6c2a-445c-a893-06d8064de76e",
   "metadata": {},
   "outputs": [],
   "source": [
    "# Handle duplicates\n",
    "df = df.drop_duplicates()"
   ]
  },
  {
   "cell_type": "code",
   "execution_count": 5,
   "id": "0ac23856-9a95-4d3a-9146-4ddfdcd3e656",
   "metadata": {},
   "outputs": [],
   "source": [
    "# Remove unnecessary values [0.00195%]\n",
    "df = df[df['gender'] != 'Other']"
   ]
  },
  {
   "cell_type": "code",
   "execution_count": 6,
   "id": "d73c58fa-1427-4473-aece-633393038e8a",
   "metadata": {},
   "outputs": [],
   "source": [
    "# Recategorize smoking history\n",
    "def recategorize_smoking(smoking_status):\n",
    "    if smoking_status in ['never', 'No Info']:\n",
    "        return 'non-smoker'\n",
    "    elif smoking_status == 'current':\n",
    "        return 'current'\n",
    "    elif smoking_status in ['ever', 'former', 'not current']:\n",
    "        return 'past_smoker'\n"
   ]
  },
  {
   "cell_type": "code",
   "execution_count": 7,
   "id": "8057c9b4-c8b1-4446-982d-5995157feea2",
   "metadata": {},
   "outputs": [],
   "source": [
    "df['smoking_history'] = df['smoking_history'].apply(recategorize_smoking)"
   ]
  },
  {
   "cell_type": "code",
   "execution_count": 8,
   "id": "030c35cc-7d4d-459e-8a18-79610cb5d69a",
   "metadata": {},
   "outputs": [],
   "source": [
    "# One-hot encoding\n",
    "def perform_one_hot_encoding(df, column_name):\n",
    "    dummies = pd.get_dummies(df[column_name], prefix=column_name)\n",
    "    df = pd.concat([df.drop(column_name, axis=1), dummies], axis=1)\n",
    "    return df\n"
   ]
  },
  {
   "cell_type": "code",
   "execution_count": 9,
   "id": "48154ecd-ba3b-4eee-b978-c44ec8df9480",
   "metadata": {},
   "outputs": [],
   "source": [
    "data = df.copy()\n",
    "data = perform_one_hot_encoding(data, 'gender')\n",
    "data = perform_one_hot_encoding(data, 'smoking_history')"
   ]
  },
  {
   "cell_type": "code",
   "execution_count": 10,
   "id": "45ffe118-56ab-42e4-8dca-e71b32db91fd",
   "metadata": {},
   "outputs": [],
   "source": [
    "# Resampling\n",
    "over = SMOTE(sampling_strategy=0.1)\n",
    "under = RandomUnderSampler(sampling_strategy=0.5)"
   ]
  },
  {
   "cell_type": "code",
   "execution_count": 11,
   "id": "def7240e-6e9d-438e-bdd5-174656ce2549",
   "metadata": {},
   "outputs": [],
   "source": [
    "X = data.drop('diabetes', axis=1)\n",
    "y = data['diabetes']\n",
    "feat_idx = MRMR.mrmr(X.values, y.values, n_selected_features=10)\n",
    "selected_features = X.columns[feat_idx]\n",
    "\n",
    "# Exclude the target variable 'diabetes'\n",
    "features_to_include = data.columns[data.columns != 'diabetes']\n",
    "data = data[features_to_include]"
   ]
  },
  {
   "cell_type": "code",
   "execution_count": 12,
   "id": "c9496a84-ad20-4b95-ade8-0bcbfebc3d05",
   "metadata": {},
   "outputs": [],
   "source": [
    "# Data Preprocessing\n",
    "preprocessor = ColumnTransformer(\n",
    "    transformers=[\n",
    "        ('num', StandardScaler(), data.select_dtypes(include='number').columns),\n",
    "        ('cat', OneHotEncoder(), data.select_dtypes(include='object').columns)\n",
    "    ])\n"
   ]
  },
  {
   "cell_type": "code",
   "execution_count": 13,
   "id": "802a207a-7f0e-4444-b0b0-2d4f4fe8e10d",
   "metadata": {},
   "outputs": [],
   "source": [
    "# Model Pipeline with AdaBoost\n",
    "base_classifier = DecisionTreeClassifier(max_depth=1)  # Base classifier for AdaBoost\n",
    "clf = imbPipeline(steps=[('preprocessor', preprocessor),\n",
    "                         ('over', over),\n",
    "                         ('under', under),\n",
    "                         ('classifier', AdaBoostClassifier(\n",
    "                             base_estimator=base_classifier,\n",
    "                             n_estimators=150,\n",
    "                             learning_rate=0.1,\n",
    "                             algorithm='SAMME.R'  # AdaBoost.MH equivalent for SAMME.R\n",
    "                         ))])\n"
   ]
  },
  {
   "cell_type": "code",
   "execution_count": 14,
   "id": "873c403e-e32d-4519-a0b7-44ff9d04982c",
   "metadata": {},
   "outputs": [],
   "source": [
    "# Define the hyperparameters and the values we want to test\n",
    "param_grid = {\n",
    "    'classifier__n_estimators': [150],\n",
    "    'classifier__learning_rate': [0.1]\n",
    "}\n"
   ]
  },
  {
   "cell_type": "code",
   "execution_count": 15,
   "id": "474163d5-4cc9-4a3c-a469-2b6c80ed3e6a",
   "metadata": {},
   "outputs": [],
   "source": [
    "# Create Grid Search object\n",
    "grid_search = GridSearchCV(clf, param_grid, cv=5)"
   ]
  },
  {
   "cell_type": "code",
   "execution_count": 16,
   "id": "6ef01728-b7f2-41d6-b057-e75d227037f2",
   "metadata": {},
   "outputs": [],
   "source": [
    "# Split data into train and test sets\n",
    "X_train, X_test, y_train, y_test = train_test_split(X, y, test_size=0.2, random_state=42)\n"
   ]
  },
  {
   "cell_type": "code",
   "execution_count": 17,
   "id": "4bdbf208-4865-44fb-81d9-675a00112c2c",
   "metadata": {},
   "outputs": [],
   "source": [
    "try:\n",
    "    # Train the model with Grid Search\n",
    "    grid_search.fit(X_train, y_train)\n",
    "except Exception as e:\n",
    "    print(\"Error:\", e)\n"
   ]
  },
  {
   "cell_type": "code",
   "execution_count": 18,
   "id": "7b8b0341-3d9c-4ab2-949e-7cb657051e57",
   "metadata": {},
   "outputs": [
    {
     "name": "stdout",
     "output_type": "stream",
     "text": [
      "Best Parameters:  {'memory': None, 'steps': [('preprocessor', ColumnTransformer(transformers=[('num', StandardScaler(),\n",
      "                                 Index(['age', 'hypertension', 'heart_disease', 'bmi', 'HbA1c_level',\n",
      "       'blood_glucose_level'],\n",
      "      dtype='object')),\n",
      "                                ('cat', OneHotEncoder(),\n",
      "                                 Index([], dtype='object'))])), ('over', SMOTE(sampling_strategy=0.1)), ('under', RandomUnderSampler(sampling_strategy=0.5)), ('classifier', AdaBoostClassifier(base_estimator=DecisionTreeClassifier(max_depth=1),\n",
      "                   learning_rate=0.1, n_estimators=150))], 'verbose': False, 'preprocessor': ColumnTransformer(transformers=[('num', StandardScaler(),\n",
      "                                 Index(['age', 'hypertension', 'heart_disease', 'bmi', 'HbA1c_level',\n",
      "       'blood_glucose_level'],\n",
      "      dtype='object')),\n",
      "                                ('cat', OneHotEncoder(),\n",
      "                                 Index([], dtype='object'))]), 'over': SMOTE(sampling_strategy=0.1), 'under': RandomUnderSampler(sampling_strategy=0.5), 'classifier': AdaBoostClassifier(base_estimator=DecisionTreeClassifier(max_depth=1),\n",
      "                   learning_rate=0.1, n_estimators=150), 'preprocessor__n_jobs': None, 'preprocessor__remainder': 'drop', 'preprocessor__sparse_threshold': 0.3, 'preprocessor__transformer_weights': None, 'preprocessor__transformers': [('num', StandardScaler(), Index(['age', 'hypertension', 'heart_disease', 'bmi', 'HbA1c_level',\n",
      "       'blood_glucose_level'],\n",
      "      dtype='object')), ('cat', OneHotEncoder(), Index([], dtype='object'))], 'preprocessor__verbose': False, 'preprocessor__verbose_feature_names_out': True, 'preprocessor__num': StandardScaler(), 'preprocessor__cat': OneHotEncoder(), 'preprocessor__num__copy': True, 'preprocessor__num__with_mean': True, 'preprocessor__num__with_std': True, 'preprocessor__cat__categories': 'auto', 'preprocessor__cat__drop': None, 'preprocessor__cat__dtype': <class 'numpy.float64'>, 'preprocessor__cat__feature_name_combiner': 'concat', 'preprocessor__cat__handle_unknown': 'error', 'preprocessor__cat__max_categories': None, 'preprocessor__cat__min_frequency': None, 'preprocessor__cat__sparse': 'deprecated', 'preprocessor__cat__sparse_output': True, 'over__k_neighbors': 5, 'over__n_jobs': None, 'over__random_state': None, 'over__sampling_strategy': 0.1, 'under__random_state': None, 'under__replacement': False, 'under__sampling_strategy': 0.5, 'classifier__algorithm': 'SAMME.R', 'classifier__base_estimator__ccp_alpha': 0.0, 'classifier__base_estimator__class_weight': None, 'classifier__base_estimator__criterion': 'gini', 'classifier__base_estimator__max_depth': 1, 'classifier__base_estimator__max_features': None, 'classifier__base_estimator__max_leaf_nodes': None, 'classifier__base_estimator__min_impurity_decrease': 0.0, 'classifier__base_estimator__min_samples_leaf': 1, 'classifier__base_estimator__min_samples_split': 2, 'classifier__base_estimator__min_weight_fraction_leaf': 0.0, 'classifier__base_estimator__random_state': None, 'classifier__base_estimator__splitter': 'best', 'classifier__base_estimator': DecisionTreeClassifier(max_depth=1), 'classifier__estimator': None, 'classifier__learning_rate': 0.1, 'classifier__n_estimators': 150, 'classifier__random_state': None}\n"
     ]
    }
   ],
   "source": [
    "# Print the best parameters\n",
    "print(\"Best Parameters: \", grid_search.best_estimator_.get_params())\n"
   ]
  },
  {
   "cell_type": "code",
   "execution_count": 19,
   "id": "bc8c9bab-0879-44bd-9bab-6ae4c707dd70",
   "metadata": {},
   "outputs": [],
   "source": [
    "# Predict on the test set using the best model\n",
    "y_pred = grid_search.predict(X_test)"
   ]
  },
  {
   "cell_type": "code",
   "execution_count": 20,
   "id": "d9a4e22e-fcc9-4de6-a107-f0eeb1854387",
   "metadata": {},
   "outputs": [
    {
     "name": "stdout",
     "output_type": "stream",
     "text": [
      "Model Accuracy:  0.9501716425673568\n",
      "              precision    recall  f1-score   support\n",
      "\n",
      "           0       0.98      0.97      0.97     17525\n",
      "           1       0.69      0.80      0.74      1701\n",
      "\n",
      "    accuracy                           0.95     19226\n",
      "   macro avg       0.83      0.88      0.86     19226\n",
      "weighted avg       0.95      0.95      0.95     19226\n",
      "\n"
     ]
    }
   ],
   "source": [
    "# Evaluate the model\n",
    "print(\"Model Accuracy: \", accuracy_score(y_test, y_pred))\n",
    "print(classification_report(y_test, y_pred))\n"
   ]
  }
 ],
 "metadata": {
  "kernelspec": {
   "display_name": "Python 3 (ipykernel)",
   "language": "python",
   "name": "python3"
  },
  "language_info": {
   "codemirror_mode": {
    "name": "ipython",
    "version": 3
   },
   "file_extension": ".py",
   "mimetype": "text/x-python",
   "name": "python",
   "nbconvert_exporter": "python",
   "pygments_lexer": "ipython3",
   "version": "3.11.2"
  }
 },
 "nbformat": 4,
 "nbformat_minor": 5
}
