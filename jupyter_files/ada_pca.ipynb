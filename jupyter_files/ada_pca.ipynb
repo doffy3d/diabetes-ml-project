{
 "cells": [
  {
   "cell_type": "code",
   "execution_count": 1,
   "id": "8ba979f9-228d-40e1-9553-73903c90f4a7",
   "metadata": {},
   "outputs": [],
   "source": [
    "import warnings\n",
    "warnings.filterwarnings('ignore')\n",
    "\n",
    "import numpy as np \n",
    "import pandas as pd \n",
    "\n",
    "from sklearn.model_selection import train_test_split, GridSearchCV\n",
    "from sklearn.preprocessing import StandardScaler, OneHotEncoder\n",
    "from sklearn.decomposition import PCA\n",
    "from sklearn.ensemble import AdaBoostClassifier\n",
    "from sklearn.tree import DecisionTreeClassifier\n",
    "from sklearn.metrics import accuracy_score, classification_report\n",
    "from sklearn.pipeline import Pipeline\n",
    "\n",
    "from imblearn.over_sampling import SMOTE\n",
    "from imblearn.under_sampling import RandomUnderSampler\n",
    "from imblearn.pipeline import Pipeline as imbPipeline\n",
    "\n",
    "from skfeature.function.information_theoretical_based import MRMR\n"
   ]
  },
  {
   "cell_type": "code",
   "execution_count": 2,
   "id": "91f4d017-0e37-4517-a69d-c553cac4c369",
   "metadata": {},
   "outputs": [],
   "source": [
    "# Set the decimal format\n",
    "pd.options.display.float_format = \"{:.2f}\".format\n",
    "\n",
    "# Read the data\n",
    "df = pd.read_csv(\"diabetes_prediction_dataset.csv\")\n",
    "\n",
    "# Handle duplicates\n",
    "df = df.drop_duplicates()\n",
    "\n",
    "# Remove unnecessary values [0.00195%]\n",
    "df = df[df['gender'] != 'Other']\n"
   ]
  },
  {
   "cell_type": "code",
   "execution_count": 3,
   "id": "ca7b029b-c13a-4da8-927b-a13b6e3fd7d3",
   "metadata": {},
   "outputs": [],
   "source": [
    "# Recategorize smoking history\n",
    "def recategorize_smoking(smoking_status):\n",
    "    if smoking_status in ['never', 'No Info']:\n",
    "        return 'non-smoker'\n",
    "    elif smoking_status == 'current':\n",
    "        return 'current'\n",
    "    elif smoking_status in ['ever', 'former', 'not current']:\n",
    "        return 'past_smoker'\n",
    "\n",
    "df['smoking_history'] = df['smoking_history'].apply(recategorize_smoking)\n"
   ]
  },
  {
   "cell_type": "code",
   "execution_count": 4,
   "id": "52c100c5-c69a-4dbf-ba5b-fd1d213bdaf4",
   "metadata": {},
   "outputs": [],
   "source": [
    "# One-hot encoding\n",
    "def perform_one_hot_encoding(df, column_name):\n",
    "    dummies = pd.get_dummies(df[column_name], prefix=column_name)\n",
    "    df = pd.concat([df.drop(column_name, axis=1), dummies], axis=1)\n",
    "    return df\n",
    "\n",
    "data = df.copy()\n",
    "data = perform_one_hot_encoding(data, 'gender')\n",
    "data = perform_one_hot_encoding(data, 'smoking_history')\n"
   ]
  },
  {
   "cell_type": "code",
   "execution_count": 5,
   "id": "a6c9408b-569e-4a01-ae37-3067a8d7a81b",
   "metadata": {},
   "outputs": [
    {
     "name": "stdout",
     "output_type": "stream",
     "text": [
      "Model Accuracy:  0.9475709976074066\n",
      "              precision    recall  f1-score   support\n",
      "\n",
      "           0       0.98      0.96      0.97     17525\n",
      "           1       0.67      0.80      0.73      1701\n",
      "\n",
      "    accuracy                           0.95     19226\n",
      "   macro avg       0.83      0.88      0.85     19226\n",
      "weighted avg       0.95      0.95      0.95     19226\n",
      "\n"
     ]
    }
   ],
   "source": [
    "# Ensure that 'diabetes' column is present in the data\n",
    "if 'diabetes' in data.columns:\n",
    "    # Resampling\n",
    "    over = SMOTE(sampling_strategy=0.1)\n",
    "    under = RandomUnderSampler(sampling_strategy=0.5)\n",
    "\n",
    "    # Perform MRMR feature selection\n",
    "    X = data.drop('diabetes', axis=1)\n",
    "    y = data['diabetes']\n",
    "    feat_idx = MRMR.mrmr(X.values, y.values, n_selected_features=10)\n",
    "    selected_features = X.columns[feat_idx]\n",
    "\n",
    "    # Include the target variable 'diabetes' in the selected features\n",
    "    selected_features = ['diabetes'] + selected_features.tolist()\n",
    "\n",
    "    # Filter the data to include only selected features\n",
    "    data = data[selected_features]\n",
    "\n",
    "    # Data Preprocessing with PCA\n",
    "    num_components = min(10, data.shape[1])\n",
    "    pca = PCA(n_components=num_components)\n",
    "    X_pca = pca.fit_transform(data.drop('diabetes', axis=1))\n",
    "\n",
    "    # Model Pipeline with AdaBoost after PCA\n",
    "    base_classifier = DecisionTreeClassifier(max_depth=1)\n",
    "    clf = imbPipeline(steps=[\n",
    "        ('pca', PCA(n_components=num_components)),\n",
    "        ('over', over),\n",
    "        ('under', under),\n",
    "        ('classifier', AdaBoostClassifier(\n",
    "            base_estimator=base_classifier,\n",
    "            n_estimators=150,\n",
    "            learning_rate=0.1,\n",
    "            algorithm='SAMME.R'\n",
    "        ))\n",
    "    ])\n",
    "\n",
    "    # Define the hyperparameters and the values we want to test\n",
    "    param_grid = {\n",
    "        'classifier__n_estimators': [150],\n",
    "        'classifier__learning_rate': [0.1]\n",
    "    }\n",
    "\n",
    "    # Create Grid Search object\n",
    "    grid_search = GridSearchCV(clf, param_grid, cv=5)\n",
    "\n",
    "    # Split data into train and test sets\n",
    "    X_train, X_test, y_train, y_test = train_test_split(X_pca, y, test_size=0.2, random_state=42)\n",
    "\n",
    "    try:\n",
    "        # Train the model with Grid Search\n",
    "        grid_search.fit(X_train, y_train)\n",
    "    except Exception as e:\n",
    "        print(\"Error:\", e)\n",
    "\n",
    "    # Predict on the test set using the best model\n",
    "    y_pred = grid_search.predict(X_test)\n",
    "\n",
    "    # Evaluate the model\n",
    "    print(\"Model Accuracy: \", accuracy_score(y_test, y_pred))\n",
    "    print(classification_report(y_test, y_pred))\n",
    "else:\n",
    "    print(\"'diabetes' column not found in the data.\")"
   ]
  }
 ],
 "metadata": {
  "kernelspec": {
   "display_name": "Python 3 (ipykernel)",
   "language": "python",
   "name": "python3"
  },
  "language_info": {
   "codemirror_mode": {
    "name": "ipython",
    "version": 3
   },
   "file_extension": ".py",
   "mimetype": "text/x-python",
   "name": "python",
   "nbconvert_exporter": "python",
   "pygments_lexer": "ipython3",
   "version": "3.11.2"
  }
 },
 "nbformat": 4,
 "nbformat_minor": 5
}
