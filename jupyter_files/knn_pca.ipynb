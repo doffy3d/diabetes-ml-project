{
 "cells": [
  {
   "cell_type": "code",
   "execution_count": 1,
   "id": "a54b7e64-524c-4183-bb76-987dd97a740d",
   "metadata": {},
   "outputs": [],
   "source": [
    "import pandas as pd\n",
    "from sklearn.model_selection import train_test_split, GridSearchCV\n",
    "from sklearn.preprocessing import StandardScaler, OneHotEncoder\n",
    "from imblearn.over_sampling import SMOTE\n",
    "from imblearn.under_sampling import RandomUnderSampler\n",
    "from imblearn.pipeline import Pipeline as imbPipeline\n",
    "from sklearn.neighbors import KNeighborsClassifier\n",
    "from sklearn.metrics import accuracy_score, classification_report\n",
    "from sklearn.decomposition import PCA\n",
    "from sklearn.feature_selection import SelectKBest, mutual_info_classif\n",
    "from sklearn.compose import ColumnTransformer\n",
    "\n",
    "# Load data\n",
    "df = pd.read_csv(\"diabetes_prediction_dataset.csv\")\n"
   ]
  },
  {
   "cell_type": "code",
   "execution_count": 2,
   "id": "8614d328-6fe7-4d51-b46e-65abc93d5b02",
   "metadata": {},
   "outputs": [
    {
     "name": "stdout",
     "output_type": "stream",
     "text": [
      "number of duplicate rows:  (3854, 9)\n"
     ]
    }
   ],
   "source": [
    "# Handle duplicates\n",
    "duplicate_rows_data = df[df.duplicated()]\n",
    "print(\"number of duplicate rows: \", duplicate_rows_data.shape)\n",
    "df = df.drop_duplicates()"
   ]
  },
  {
   "cell_type": "code",
   "execution_count": 3,
   "id": "4c430551-9ae0-4d05-a8ff-3f3b0eecd499",
   "metadata": {},
   "outputs": [],
   "source": [
    "# Remove Unnecessary value [0.00195%]\n",
    "df = df[df['gender'] != 'Other']"
   ]
  },
  {
   "cell_type": "code",
   "execution_count": 4,
   "id": "4d98685b-20d2-44b6-87e8-eee493c05223",
   "metadata": {},
   "outputs": [],
   "source": [
    "# Recategorize smoking history\n",
    "def recategorize_smoking(smoking_status):\n",
    "    if smoking_status in ['never', 'No Info']:\n",
    "        return 'non-smoker'\n",
    "    elif smoking_status == 'current':\n",
    "        return 'current'\n",
    "    elif smoking_status in ['ever', 'former', 'not current']:\n",
    "        return 'past_smoker'\n",
    "\n",
    "df['smoking_history'] = df['smoking_history'].apply(recategorize_smoking)\n"
   ]
  },
  {
   "cell_type": "code",
   "execution_count": 5,
   "id": "6ff8e688-d5e6-45ce-b6c4-5e08b2dd657e",
   "metadata": {},
   "outputs": [],
   "source": [
    "# One-hot encoding\n",
    "def perform_one_hot_encoding(df, column_name):\n",
    "    dummies = pd.get_dummies(df[column_name], prefix=column_name)\n",
    "    df = pd.concat([df.drop(column_name, axis=1), dummies], axis=1)\n",
    "    return df\n"
   ]
  },
  {
   "cell_type": "code",
   "execution_count": 6,
   "id": "75189479-566f-409d-9a0d-7cbde7f5fe09",
   "metadata": {},
   "outputs": [],
   "source": [
    "data = df.copy()\n",
    "data = perform_one_hot_encoding(data, 'gender')\n",
    "data = perform_one_hot_encoding(data, 'smoking_history')"
   ]
  },
  {
   "cell_type": "code",
   "execution_count": 7,
   "id": "76f29dfc-37fc-47eb-be4e-ec627b2f6235",
   "metadata": {},
   "outputs": [],
   "source": [
    "# Resampling\n",
    "over = SMOTE(sampling_strategy=0.1)\n",
    "under = RandomUnderSampler(sampling_strategy=0.5)\n"
   ]
  },
  {
   "cell_type": "code",
   "execution_count": 8,
   "id": "58b86439-ca0e-4a10-b063-6c66afd87b65",
   "metadata": {},
   "outputs": [],
   "source": [
    "# Preprocessing with PCA\n",
    "preprocessor_pca = ColumnTransformer(\n",
    "    transformers=[\n",
    "        ('num', StandardScaler(), ['age', 'bmi', 'HbA1c_level', 'blood_glucose_level', 'hypertension', 'heart_disease']),\n",
    "        ('cat', OneHotEncoder(), ['gender', 'smoking_history'])\n",
    "    ])\n",
    "\n",
    "pca = PCA(n_components=5)  # Adjust the number of components based on your requirements\n"
   ]
  },
  {
   "cell_type": "code",
   "execution_count": 9,
   "id": "0858f13d-03b5-4b36-9854-b23b51be0663",
   "metadata": {},
   "outputs": [],
   "source": [
    "# SelectKBest with Mutual Information for feature selection\n",
    "feature_selection = SelectKBest(mutual_info_classif, k=5)  # Adjust k based on your requirements\n",
    "\n",
    "# Define k-NN classifier\n",
    "knn_classifier = KNeighborsClassifier()\n"
   ]
  },
  {
   "cell_type": "code",
   "execution_count": 10,
   "id": "2e81fafe-78fb-4f39-9a94-0cf136dd21cf",
   "metadata": {},
   "outputs": [],
   "source": [
    "# Create a pipeline that preprocesses the data, performs feature selection, resamples data, and then trains a classifier\n",
    "clf_pca = imbPipeline(steps=[\n",
    "    ('preprocessor_pca', preprocessor_pca),\n",
    "    ('pca', pca),\n",
    "    ('feature_selection', feature_selection),\n",
    "    ('over', over),\n",
    "    ('under', under),\n",
    "    ('classifier', knn_classifier)\n",
    "])"
   ]
  },
  {
   "cell_type": "code",
   "execution_count": 11,
   "id": "25aed46c-b09c-4a32-822f-faea0b197760",
   "metadata": {},
   "outputs": [],
   "source": [
    "param_grid_pca = {\n",
    "    'classifier__n_neighbors': [25],\n",
    "    'classifier__algorithm': ['auto'],\n",
    "    'classifier__leaf_size': [5],\n",
    "    'classifier__weights': ['uniform'],\n",
    "    'classifier__p': [2]  # L2-norm (Euclidean)\n",
    "}"
   ]
  },
  {
   "cell_type": "code",
   "execution_count": 12,
   "id": "dc984d8d-493a-4caf-9ce2-5566cfb4b152",
   "metadata": {},
   "outputs": [],
   "source": [
    "# Create Grid Search object for PCA\n",
    "grid_search_pca = GridSearchCV(clf_pca, param_grid_pca, cv=5)"
   ]
  },
  {
   "cell_type": "code",
   "execution_count": 13,
   "id": "8093d742-6d5a-4d03-a2d1-47f7af504c61",
   "metadata": {},
   "outputs": [],
   "source": [
    "# Split data into train and test sets\n",
    "X = df.drop('diabetes', axis=1)\n",
    "y = df['diabetes']"
   ]
  },
  {
   "cell_type": "code",
   "execution_count": 14,
   "id": "01efeb5f-ea81-49f4-9512-47ffdb0095f0",
   "metadata": {},
   "outputs": [],
   "source": [
    "# Split data into train and test sets\n",
    "X_train, X_test, y_train, y_test = train_test_split(X, y, test_size=0.2, random_state=42)\n"
   ]
  },
  {
   "cell_type": "code",
   "execution_count": 15,
   "id": "3f63a363-47bf-45ff-b032-bcaa1198bad0",
   "metadata": {},
   "outputs": [
    {
     "data": {
      "text/html": [
       "<style>#sk-container-id-1 {color: black;}#sk-container-id-1 pre{padding: 0;}#sk-container-id-1 div.sk-toggleable {background-color: white;}#sk-container-id-1 label.sk-toggleable__label {cursor: pointer;display: block;width: 100%;margin-bottom: 0;padding: 0.3em;box-sizing: border-box;text-align: center;}#sk-container-id-1 label.sk-toggleable__label-arrow:before {content: \"▸\";float: left;margin-right: 0.25em;color: #696969;}#sk-container-id-1 label.sk-toggleable__label-arrow:hover:before {color: black;}#sk-container-id-1 div.sk-estimator:hover label.sk-toggleable__label-arrow:before {color: black;}#sk-container-id-1 div.sk-toggleable__content {max-height: 0;max-width: 0;overflow: hidden;text-align: left;background-color: #f0f8ff;}#sk-container-id-1 div.sk-toggleable__content pre {margin: 0.2em;color: black;border-radius: 0.25em;background-color: #f0f8ff;}#sk-container-id-1 input.sk-toggleable__control:checked~div.sk-toggleable__content {max-height: 200px;max-width: 100%;overflow: auto;}#sk-container-id-1 input.sk-toggleable__control:checked~label.sk-toggleable__label-arrow:before {content: \"▾\";}#sk-container-id-1 div.sk-estimator input.sk-toggleable__control:checked~label.sk-toggleable__label {background-color: #d4ebff;}#sk-container-id-1 div.sk-label input.sk-toggleable__control:checked~label.sk-toggleable__label {background-color: #d4ebff;}#sk-container-id-1 input.sk-hidden--visually {border: 0;clip: rect(1px 1px 1px 1px);clip: rect(1px, 1px, 1px, 1px);height: 1px;margin: -1px;overflow: hidden;padding: 0;position: absolute;width: 1px;}#sk-container-id-1 div.sk-estimator {font-family: monospace;background-color: #f0f8ff;border: 1px dotted black;border-radius: 0.25em;box-sizing: border-box;margin-bottom: 0.5em;}#sk-container-id-1 div.sk-estimator:hover {background-color: #d4ebff;}#sk-container-id-1 div.sk-parallel-item::after {content: \"\";width: 100%;border-bottom: 1px solid gray;flex-grow: 1;}#sk-container-id-1 div.sk-label:hover label.sk-toggleable__label {background-color: #d4ebff;}#sk-container-id-1 div.sk-serial::before {content: \"\";position: absolute;border-left: 1px solid gray;box-sizing: border-box;top: 0;bottom: 0;left: 50%;z-index: 0;}#sk-container-id-1 div.sk-serial {display: flex;flex-direction: column;align-items: center;background-color: white;padding-right: 0.2em;padding-left: 0.2em;position: relative;}#sk-container-id-1 div.sk-item {position: relative;z-index: 1;}#sk-container-id-1 div.sk-parallel {display: flex;align-items: stretch;justify-content: center;background-color: white;position: relative;}#sk-container-id-1 div.sk-item::before, #sk-container-id-1 div.sk-parallel-item::before {content: \"\";position: absolute;border-left: 1px solid gray;box-sizing: border-box;top: 0;bottom: 0;left: 50%;z-index: -1;}#sk-container-id-1 div.sk-parallel-item {display: flex;flex-direction: column;z-index: 1;position: relative;background-color: white;}#sk-container-id-1 div.sk-parallel-item:first-child::after {align-self: flex-end;width: 50%;}#sk-container-id-1 div.sk-parallel-item:last-child::after {align-self: flex-start;width: 50%;}#sk-container-id-1 div.sk-parallel-item:only-child::after {width: 0;}#sk-container-id-1 div.sk-dashed-wrapped {border: 1px dashed gray;margin: 0 0.4em 0.5em 0.4em;box-sizing: border-box;padding-bottom: 0.4em;background-color: white;}#sk-container-id-1 div.sk-label label {font-family: monospace;font-weight: bold;display: inline-block;line-height: 1.2em;}#sk-container-id-1 div.sk-label-container {text-align: center;}#sk-container-id-1 div.sk-container {/* jupyter's `normalize.less` sets `[hidden] { display: none; }` but bootstrap.min.css set `[hidden] { display: none !important; }` so we also need the `!important` here to be able to override the default hidden behavior on the sphinx rendered scikit-learn.org. See: https://github.com/scikit-learn/scikit-learn/issues/21755 */display: inline-block !important;position: relative;}#sk-container-id-1 div.sk-text-repr-fallback {display: none;}</style><div id=\"sk-container-id-1\" class=\"sk-top-container\"><div class=\"sk-text-repr-fallback\"><pre>GridSearchCV(cv=5,\n",
       "             estimator=Pipeline(steps=[(&#x27;preprocessor_pca&#x27;,\n",
       "                                        ColumnTransformer(transformers=[(&#x27;num&#x27;,\n",
       "                                                                         StandardScaler(),\n",
       "                                                                         [&#x27;age&#x27;,\n",
       "                                                                          &#x27;bmi&#x27;,\n",
       "                                                                          &#x27;HbA1c_level&#x27;,\n",
       "                                                                          &#x27;blood_glucose_level&#x27;,\n",
       "                                                                          &#x27;hypertension&#x27;,\n",
       "                                                                          &#x27;heart_disease&#x27;]),\n",
       "                                                                        (&#x27;cat&#x27;,\n",
       "                                                                         OneHotEncoder(),\n",
       "                                                                         [&#x27;gender&#x27;,\n",
       "                                                                          &#x27;smoking_history&#x27;])])),\n",
       "                                       (&#x27;pca&#x27;, PCA(n_components=5)),\n",
       "                                       (&#x27;feature_selection&#x27;,\n",
       "                                        SelectKBest(k=5,\n",
       "                                                    score_func=&lt;function mutual_info_classif at 0x000002A44057C7C0&gt;)),\n",
       "                                       (&#x27;over&#x27;, SMOTE(sampling_strategy=0.1)),\n",
       "                                       (&#x27;under&#x27;,\n",
       "                                        RandomUnderSampler(sampling_strategy=0.5)),\n",
       "                                       (&#x27;classifier&#x27;, KNeighborsClassifier())]),\n",
       "             param_grid={&#x27;classifier__algorithm&#x27;: [&#x27;auto&#x27;],\n",
       "                         &#x27;classifier__leaf_size&#x27;: [5],\n",
       "                         &#x27;classifier__n_neighbors&#x27;: [25], &#x27;classifier__p&#x27;: [2],\n",
       "                         &#x27;classifier__weights&#x27;: [&#x27;uniform&#x27;]})</pre><b>In a Jupyter environment, please rerun this cell to show the HTML representation or trust the notebook. <br />On GitHub, the HTML representation is unable to render, please try loading this page with nbviewer.org.</b></div><div class=\"sk-container\" hidden><div class=\"sk-item sk-dashed-wrapped\"><div class=\"sk-label-container\"><div class=\"sk-label sk-toggleable\"><input class=\"sk-toggleable__control sk-hidden--visually\" id=\"sk-estimator-id-1\" type=\"checkbox\" ><label for=\"sk-estimator-id-1\" class=\"sk-toggleable__label sk-toggleable__label-arrow\">GridSearchCV</label><div class=\"sk-toggleable__content\"><pre>GridSearchCV(cv=5,\n",
       "             estimator=Pipeline(steps=[(&#x27;preprocessor_pca&#x27;,\n",
       "                                        ColumnTransformer(transformers=[(&#x27;num&#x27;,\n",
       "                                                                         StandardScaler(),\n",
       "                                                                         [&#x27;age&#x27;,\n",
       "                                                                          &#x27;bmi&#x27;,\n",
       "                                                                          &#x27;HbA1c_level&#x27;,\n",
       "                                                                          &#x27;blood_glucose_level&#x27;,\n",
       "                                                                          &#x27;hypertension&#x27;,\n",
       "                                                                          &#x27;heart_disease&#x27;]),\n",
       "                                                                        (&#x27;cat&#x27;,\n",
       "                                                                         OneHotEncoder(),\n",
       "                                                                         [&#x27;gender&#x27;,\n",
       "                                                                          &#x27;smoking_history&#x27;])])),\n",
       "                                       (&#x27;pca&#x27;, PCA(n_components=5)),\n",
       "                                       (&#x27;feature_selection&#x27;,\n",
       "                                        SelectKBest(k=5,\n",
       "                                                    score_func=&lt;function mutual_info_classif at 0x000002A44057C7C0&gt;)),\n",
       "                                       (&#x27;over&#x27;, SMOTE(sampling_strategy=0.1)),\n",
       "                                       (&#x27;under&#x27;,\n",
       "                                        RandomUnderSampler(sampling_strategy=0.5)),\n",
       "                                       (&#x27;classifier&#x27;, KNeighborsClassifier())]),\n",
       "             param_grid={&#x27;classifier__algorithm&#x27;: [&#x27;auto&#x27;],\n",
       "                         &#x27;classifier__leaf_size&#x27;: [5],\n",
       "                         &#x27;classifier__n_neighbors&#x27;: [25], &#x27;classifier__p&#x27;: [2],\n",
       "                         &#x27;classifier__weights&#x27;: [&#x27;uniform&#x27;]})</pre></div></div></div><div class=\"sk-parallel\"><div class=\"sk-parallel-item\"><div class=\"sk-item\"><div class=\"sk-label-container\"><div class=\"sk-label sk-toggleable\"><input class=\"sk-toggleable__control sk-hidden--visually\" id=\"sk-estimator-id-2\" type=\"checkbox\" ><label for=\"sk-estimator-id-2\" class=\"sk-toggleable__label sk-toggleable__label-arrow\">estimator: Pipeline</label><div class=\"sk-toggleable__content\"><pre>Pipeline(steps=[(&#x27;preprocessor_pca&#x27;,\n",
       "                 ColumnTransformer(transformers=[(&#x27;num&#x27;, StandardScaler(),\n",
       "                                                  [&#x27;age&#x27;, &#x27;bmi&#x27;, &#x27;HbA1c_level&#x27;,\n",
       "                                                   &#x27;blood_glucose_level&#x27;,\n",
       "                                                   &#x27;hypertension&#x27;,\n",
       "                                                   &#x27;heart_disease&#x27;]),\n",
       "                                                 (&#x27;cat&#x27;, OneHotEncoder(),\n",
       "                                                  [&#x27;gender&#x27;,\n",
       "                                                   &#x27;smoking_history&#x27;])])),\n",
       "                (&#x27;pca&#x27;, PCA(n_components=5)),\n",
       "                (&#x27;feature_selection&#x27;,\n",
       "                 SelectKBest(k=5,\n",
       "                             score_func=&lt;function mutual_info_classif at 0x000002A44057C7C0&gt;)),\n",
       "                (&#x27;over&#x27;, SMOTE(sampling_strategy=0.1)),\n",
       "                (&#x27;under&#x27;, RandomUnderSampler(sampling_strategy=0.5)),\n",
       "                (&#x27;classifier&#x27;, KNeighborsClassifier())])</pre></div></div></div><div class=\"sk-serial\"><div class=\"sk-item\"><div class=\"sk-serial\"><div class=\"sk-item sk-dashed-wrapped\"><div class=\"sk-label-container\"><div class=\"sk-label sk-toggleable\"><input class=\"sk-toggleable__control sk-hidden--visually\" id=\"sk-estimator-id-3\" type=\"checkbox\" ><label for=\"sk-estimator-id-3\" class=\"sk-toggleable__label sk-toggleable__label-arrow\">preprocessor_pca: ColumnTransformer</label><div class=\"sk-toggleable__content\"><pre>ColumnTransformer(transformers=[(&#x27;num&#x27;, StandardScaler(),\n",
       "                                 [&#x27;age&#x27;, &#x27;bmi&#x27;, &#x27;HbA1c_level&#x27;,\n",
       "                                  &#x27;blood_glucose_level&#x27;, &#x27;hypertension&#x27;,\n",
       "                                  &#x27;heart_disease&#x27;]),\n",
       "                                (&#x27;cat&#x27;, OneHotEncoder(),\n",
       "                                 [&#x27;gender&#x27;, &#x27;smoking_history&#x27;])])</pre></div></div></div><div class=\"sk-parallel\"><div class=\"sk-parallel-item\"><div class=\"sk-item\"><div class=\"sk-label-container\"><div class=\"sk-label sk-toggleable\"><input class=\"sk-toggleable__control sk-hidden--visually\" id=\"sk-estimator-id-4\" type=\"checkbox\" ><label for=\"sk-estimator-id-4\" class=\"sk-toggleable__label sk-toggleable__label-arrow\">num</label><div class=\"sk-toggleable__content\"><pre>[&#x27;age&#x27;, &#x27;bmi&#x27;, &#x27;HbA1c_level&#x27;, &#x27;blood_glucose_level&#x27;, &#x27;hypertension&#x27;, &#x27;heart_disease&#x27;]</pre></div></div></div><div class=\"sk-serial\"><div class=\"sk-item\"><div class=\"sk-estimator sk-toggleable\"><input class=\"sk-toggleable__control sk-hidden--visually\" id=\"sk-estimator-id-5\" type=\"checkbox\" ><label for=\"sk-estimator-id-5\" class=\"sk-toggleable__label sk-toggleable__label-arrow\">StandardScaler</label><div class=\"sk-toggleable__content\"><pre>StandardScaler()</pre></div></div></div></div></div></div><div class=\"sk-parallel-item\"><div class=\"sk-item\"><div class=\"sk-label-container\"><div class=\"sk-label sk-toggleable\"><input class=\"sk-toggleable__control sk-hidden--visually\" id=\"sk-estimator-id-6\" type=\"checkbox\" ><label for=\"sk-estimator-id-6\" class=\"sk-toggleable__label sk-toggleable__label-arrow\">cat</label><div class=\"sk-toggleable__content\"><pre>[&#x27;gender&#x27;, &#x27;smoking_history&#x27;]</pre></div></div></div><div class=\"sk-serial\"><div class=\"sk-item\"><div class=\"sk-estimator sk-toggleable\"><input class=\"sk-toggleable__control sk-hidden--visually\" id=\"sk-estimator-id-7\" type=\"checkbox\" ><label for=\"sk-estimator-id-7\" class=\"sk-toggleable__label sk-toggleable__label-arrow\">OneHotEncoder</label><div class=\"sk-toggleable__content\"><pre>OneHotEncoder()</pre></div></div></div></div></div></div></div></div><div class=\"sk-item\"><div class=\"sk-estimator sk-toggleable\"><input class=\"sk-toggleable__control sk-hidden--visually\" id=\"sk-estimator-id-8\" type=\"checkbox\" ><label for=\"sk-estimator-id-8\" class=\"sk-toggleable__label sk-toggleable__label-arrow\">PCA</label><div class=\"sk-toggleable__content\"><pre>PCA(n_components=5)</pre></div></div></div><div class=\"sk-item\"><div class=\"sk-estimator sk-toggleable\"><input class=\"sk-toggleable__control sk-hidden--visually\" id=\"sk-estimator-id-9\" type=\"checkbox\" ><label for=\"sk-estimator-id-9\" class=\"sk-toggleable__label sk-toggleable__label-arrow\">SelectKBest</label><div class=\"sk-toggleable__content\"><pre>SelectKBest(k=5,\n",
       "            score_func=&lt;function mutual_info_classif at 0x000002A44057C7C0&gt;)</pre></div></div></div><div class=\"sk-item\"><div class=\"sk-estimator sk-toggleable\"><input class=\"sk-toggleable__control sk-hidden--visually\" id=\"sk-estimator-id-10\" type=\"checkbox\" ><label for=\"sk-estimator-id-10\" class=\"sk-toggleable__label sk-toggleable__label-arrow\">SMOTE</label><div class=\"sk-toggleable__content\"><pre>SMOTE(sampling_strategy=0.1)</pre></div></div></div><div class=\"sk-item\"><div class=\"sk-estimator sk-toggleable\"><input class=\"sk-toggleable__control sk-hidden--visually\" id=\"sk-estimator-id-11\" type=\"checkbox\" ><label for=\"sk-estimator-id-11\" class=\"sk-toggleable__label sk-toggleable__label-arrow\">RandomUnderSampler</label><div class=\"sk-toggleable__content\"><pre>RandomUnderSampler(sampling_strategy=0.5)</pre></div></div></div><div class=\"sk-item\"><div class=\"sk-estimator sk-toggleable\"><input class=\"sk-toggleable__control sk-hidden--visually\" id=\"sk-estimator-id-12\" type=\"checkbox\" ><label for=\"sk-estimator-id-12\" class=\"sk-toggleable__label sk-toggleable__label-arrow\">KNeighborsClassifier</label><div class=\"sk-toggleable__content\"><pre>KNeighborsClassifier()</pre></div></div></div></div></div></div></div></div></div></div></div></div>"
      ],
      "text/plain": [
       "GridSearchCV(cv=5,\n",
       "             estimator=Pipeline(steps=[('preprocessor_pca',\n",
       "                                        ColumnTransformer(transformers=[('num',\n",
       "                                                                         StandardScaler(),\n",
       "                                                                         ['age',\n",
       "                                                                          'bmi',\n",
       "                                                                          'HbA1c_level',\n",
       "                                                                          'blood_glucose_level',\n",
       "                                                                          'hypertension',\n",
       "                                                                          'heart_disease']),\n",
       "                                                                        ('cat',\n",
       "                                                                         OneHotEncoder(),\n",
       "                                                                         ['gender',\n",
       "                                                                          'smoking_history'])])),\n",
       "                                       ('pca', PCA(n_components=5)),\n",
       "                                       ('feature_selection',\n",
       "                                        SelectKBest(k=5,\n",
       "                                                    score_func=<function mutual_info_classif at 0x000002A44057C7C0>)),\n",
       "                                       ('over', SMOTE(sampling_strategy=0.1)),\n",
       "                                       ('under',\n",
       "                                        RandomUnderSampler(sampling_strategy=0.5)),\n",
       "                                       ('classifier', KNeighborsClassifier())]),\n",
       "             param_grid={'classifier__algorithm': ['auto'],\n",
       "                         'classifier__leaf_size': [5],\n",
       "                         'classifier__n_neighbors': [25], 'classifier__p': [2],\n",
       "                         'classifier__weights': ['uniform']})"
      ]
     },
     "execution_count": 15,
     "metadata": {},
     "output_type": "execute_result"
    }
   ],
   "source": [
    "# Train the model with PCA\n",
    "grid_search_pca.fit(X_train, y_train)"
   ]
  },
  {
   "cell_type": "code",
   "execution_count": 16,
   "id": "98812800-52a1-43c1-b297-5f95e6f0ea13",
   "metadata": {},
   "outputs": [
    {
     "name": "stdout",
     "output_type": "stream",
     "text": [
      "Best Parameters with PCA:  {'classifier__algorithm': 'auto', 'classifier__leaf_size': 5, 'classifier__n_neighbors': 25, 'classifier__p': 2, 'classifier__weights': 'uniform'}\n",
      "Model Accuracy with PCA:  0.9306668053677312\n",
      "              precision    recall  f1-score   support\n",
      "\n",
      "           0       0.98      0.94      0.96     17525\n",
      "           1       0.58      0.81      0.67      1701\n",
      "\n",
      "    accuracy                           0.93     19226\n",
      "   macro avg       0.78      0.88      0.82     19226\n",
      "weighted avg       0.95      0.93      0.94     19226\n",
      "\n"
     ]
    }
   ],
   "source": [
    "# Print the best parameters\n",
    "print(\"Best Parameters with PCA: \", grid_search_pca.best_params_)\n",
    "\n",
    "# Predict on the test set using the best model with PCA\n",
    "y_pred_pca = grid_search_pca.predict(X_test)\n",
    "\n",
    "# Evaluate the model with PCA\n",
    "print(\"Model Accuracy with PCA: \", accuracy_score(y_test, y_pred_pca))\n",
    "print(classification_report(y_test, y_pred_pca))"
   ]
  },
  {
   "cell_type": "code",
   "execution_count": null,
   "id": "e7035e2d-aa19-439f-b7f6-f0b86edbfe38",
   "metadata": {},
   "outputs": [],
   "source": []
  }
 ],
 "metadata": {
  "kernelspec": {
   "display_name": "Python 3 (ipykernel)",
   "language": "python",
   "name": "python3"
  },
  "language_info": {
   "codemirror_mode": {
    "name": "ipython",
    "version": 3
   },
   "file_extension": ".py",
   "mimetype": "text/x-python",
   "name": "python",
   "nbconvert_exporter": "python",
   "pygments_lexer": "ipython3",
   "version": "3.11.2"
  }
 },
 "nbformat": 4,
 "nbformat_minor": 5
}
