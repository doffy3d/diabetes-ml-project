{
 "cells": [
  {
   "cell_type": "code",
   "execution_count": 1,
   "id": "f0702fea-613d-4d70-96bc-1654bb9c2dee",
   "metadata": {},
   "outputs": [],
   "source": [
    "import warnings\n",
    "warnings.filterwarnings('ignore')\n",
    "\n",
    "# Import Neccessary libraries\n",
    "import numpy as np \n",
    "import pandas as pd \n",
    "\n",
    "# Import Visualization libraries\n",
    "import matplotlib.pyplot as plt\n",
    "import seaborn as sns\n",
    "\n",
    "#Import Model\n",
    "from sklearn.model_selection import train_test_split, GridSearchCV\n",
    "from sklearn.preprocessing import StandardScaler, OneHotEncoder\n",
    "from sklearn.compose import ColumnTransformer\n",
    "from sklearn.ensemble import RandomForestClassifier\n",
    "from sklearn.metrics import accuracy_score, classification_report, confusion_matrix\n",
    "from sklearn.pipeline import Pipeline\n",
    "#Import Sampler libraries\n",
    "from imblearn.over_sampling import SMOTE\n",
    "from imblearn.under_sampling import RandomUnderSampler\n",
    "from imblearn.pipeline import Pipeline as imbPipeline\n",
    "\n",
    "# Set the decimal format\n",
    "pd.options.display.float_format = \"{:.2f}\".format"
   ]
  },
  {
   "cell_type": "code",
   "execution_count": 2,
   "id": "3a4d1ab9-5b4f-46db-a18c-bfecb41000d9",
   "metadata": {},
   "outputs": [],
   "source": [
    "df = pd.read_csv(\"diabetes_prediction_dataset.csv\")"
   ]
  },
  {
   "cell_type": "code",
   "execution_count": 3,
   "id": "a9e7982e-0733-4283-b46d-b64b45d87e32",
   "metadata": {},
   "outputs": [
    {
     "data": {
      "text/html": [
       "<div>\n",
       "<style scoped>\n",
       "    .dataframe tbody tr th:only-of-type {\n",
       "        vertical-align: middle;\n",
       "    }\n",
       "\n",
       "    .dataframe tbody tr th {\n",
       "        vertical-align: top;\n",
       "    }\n",
       "\n",
       "    .dataframe thead th {\n",
       "        text-align: right;\n",
       "    }\n",
       "</style>\n",
       "<table border=\"1\" class=\"dataframe\">\n",
       "  <thead>\n",
       "    <tr style=\"text-align: right;\">\n",
       "      <th></th>\n",
       "      <th>gender</th>\n",
       "      <th>age</th>\n",
       "      <th>hypertension</th>\n",
       "      <th>heart_disease</th>\n",
       "      <th>smoking_history</th>\n",
       "      <th>bmi</th>\n",
       "      <th>HbA1c_level</th>\n",
       "      <th>blood_glucose_level</th>\n",
       "      <th>diabetes</th>\n",
       "    </tr>\n",
       "  </thead>\n",
       "  <tbody>\n",
       "    <tr>\n",
       "      <th>0</th>\n",
       "      <td>Female</td>\n",
       "      <td>80.00</td>\n",
       "      <td>0</td>\n",
       "      <td>1</td>\n",
       "      <td>never</td>\n",
       "      <td>25.19</td>\n",
       "      <td>6.60</td>\n",
       "      <td>140</td>\n",
       "      <td>0</td>\n",
       "    </tr>\n",
       "    <tr>\n",
       "      <th>1</th>\n",
       "      <td>Female</td>\n",
       "      <td>54.00</td>\n",
       "      <td>0</td>\n",
       "      <td>0</td>\n",
       "      <td>No Info</td>\n",
       "      <td>27.32</td>\n",
       "      <td>6.60</td>\n",
       "      <td>80</td>\n",
       "      <td>0</td>\n",
       "    </tr>\n",
       "    <tr>\n",
       "      <th>2</th>\n",
       "      <td>Male</td>\n",
       "      <td>28.00</td>\n",
       "      <td>0</td>\n",
       "      <td>0</td>\n",
       "      <td>never</td>\n",
       "      <td>27.32</td>\n",
       "      <td>5.70</td>\n",
       "      <td>158</td>\n",
       "      <td>0</td>\n",
       "    </tr>\n",
       "    <tr>\n",
       "      <th>3</th>\n",
       "      <td>Female</td>\n",
       "      <td>36.00</td>\n",
       "      <td>0</td>\n",
       "      <td>0</td>\n",
       "      <td>current</td>\n",
       "      <td>23.45</td>\n",
       "      <td>5.00</td>\n",
       "      <td>155</td>\n",
       "      <td>0</td>\n",
       "    </tr>\n",
       "    <tr>\n",
       "      <th>4</th>\n",
       "      <td>Male</td>\n",
       "      <td>76.00</td>\n",
       "      <td>1</td>\n",
       "      <td>1</td>\n",
       "      <td>current</td>\n",
       "      <td>20.14</td>\n",
       "      <td>4.80</td>\n",
       "      <td>155</td>\n",
       "      <td>0</td>\n",
       "    </tr>\n",
       "  </tbody>\n",
       "</table>\n",
       "</div>"
      ],
      "text/plain": [
       "   gender   age  hypertension  heart_disease smoking_history   bmi  \\\n",
       "0  Female 80.00             0              1           never 25.19   \n",
       "1  Female 54.00             0              0         No Info 27.32   \n",
       "2    Male 28.00             0              0           never 27.32   \n",
       "3  Female 36.00             0              0         current 23.45   \n",
       "4    Male 76.00             1              1         current 20.14   \n",
       "\n",
       "   HbA1c_level  blood_glucose_level  diabetes  \n",
       "0         6.60                  140         0  \n",
       "1         6.60                   80         0  \n",
       "2         5.70                  158         0  \n",
       "3         5.00                  155         0  \n",
       "4         4.80                  155         0  "
      ]
     },
     "execution_count": 3,
     "metadata": {},
     "output_type": "execute_result"
    }
   ],
   "source": [
    "df.head()"
   ]
  },
  {
   "cell_type": "code",
   "execution_count": 4,
   "id": "d5ca911a-3aba-4446-afff-d1bf82df1813",
   "metadata": {},
   "outputs": [
    {
     "name": "stdout",
     "output_type": "stream",
     "text": [
      "number of duplicate rows:  (3854, 9)\n"
     ]
    }
   ],
   "source": [
    "# Handle duplicates\n",
    "duplicate_rows_data = df[df.duplicated()]\n",
    "print(\"number of duplicate rows: \", duplicate_rows_data.shape)"
   ]
  },
  {
   "cell_type": "code",
   "execution_count": 5,
   "id": "5aacef23-1cd3-4466-9ead-212a6f0bc162",
   "metadata": {},
   "outputs": [],
   "source": [
    "df = df.drop_duplicates()"
   ]
  },
  {
   "cell_type": "code",
   "execution_count": 6,
   "id": "6ec9f834-8dfa-445b-a029-173c450a9589",
   "metadata": {},
   "outputs": [
    {
     "name": "stdout",
     "output_type": "stream",
     "text": [
      "gender: 3 distinct values\n",
      "age: 102 distinct values\n",
      "hypertension: 2 distinct values\n",
      "heart_disease: 2 distinct values\n",
      "smoking_history: 6 distinct values\n",
      "bmi: 4247 distinct values\n",
      "HbA1c_level: 18 distinct values\n",
      "blood_glucose_level: 18 distinct values\n",
      "diabetes: 2 distinct values\n"
     ]
    }
   ],
   "source": [
    "# Loop through each column and count the number of distinct values\n",
    "for column in df.columns:\n",
    "    num_distinct_values = len(df[column].unique())\n",
    "    print(f\"{column}: {num_distinct_values} distinct values\")"
   ]
  },
  {
   "cell_type": "code",
   "execution_count": 7,
   "id": "2f0155d2-fa52-43c2-8545-0060cc274077",
   "metadata": {},
   "outputs": [],
   "source": [
    "# Remove Unneccessary value [0.00195%]\n",
    "df = df[df['gender'] != 'Other']"
   ]
  },
  {
   "cell_type": "code",
   "execution_count": 8,
   "id": "1f7351e9-18cd-4743-a204-4d4311f180cc",
   "metadata": {},
   "outputs": [
    {
     "data": {
      "text/html": [
       "<style type=\"text/css\">\n",
       "</style>\n",
       "<table id=\"T_34b0c\">\n",
       "  <thead>\n",
       "    <tr>\n",
       "      <th class=\"blank level0\" >&nbsp;</th>\n",
       "      <th id=\"T_34b0c_level0_col0\" class=\"col_heading level0 col0\" >age</th>\n",
       "      <th id=\"T_34b0c_level0_col1\" class=\"col_heading level0 col1\" >hypertension</th>\n",
       "      <th id=\"T_34b0c_level0_col2\" class=\"col_heading level0 col2\" >heart_disease</th>\n",
       "      <th id=\"T_34b0c_level0_col3\" class=\"col_heading level0 col3\" >bmi</th>\n",
       "      <th id=\"T_34b0c_level0_col4\" class=\"col_heading level0 col4\" >HbA1c_level</th>\n",
       "      <th id=\"T_34b0c_level0_col5\" class=\"col_heading level0 col5\" >blood_glucose_level</th>\n",
       "      <th id=\"T_34b0c_level0_col6\" class=\"col_heading level0 col6\" >diabetes</th>\n",
       "    </tr>\n",
       "  </thead>\n",
       "  <tbody>\n",
       "    <tr>\n",
       "      <th id=\"T_34b0c_level0_row0\" class=\"row_heading level0 row0\" >count</th>\n",
       "      <td id=\"T_34b0c_row0_col0\" class=\"data row0 col0\" >96128.00</td>\n",
       "      <td id=\"T_34b0c_row0_col1\" class=\"data row0 col1\" >96128.00</td>\n",
       "      <td id=\"T_34b0c_row0_col2\" class=\"data row0 col2\" >96128.00</td>\n",
       "      <td id=\"T_34b0c_row0_col3\" class=\"data row0 col3\" >96128.00</td>\n",
       "      <td id=\"T_34b0c_row0_col4\" class=\"data row0 col4\" >96128.00</td>\n",
       "      <td id=\"T_34b0c_row0_col5\" class=\"data row0 col5\" >96128.00</td>\n",
       "      <td id=\"T_34b0c_row0_col6\" class=\"data row0 col6\" >96128.00</td>\n",
       "    </tr>\n",
       "    <tr>\n",
       "      <th id=\"T_34b0c_level0_row1\" class=\"row_heading level0 row1\" >mean</th>\n",
       "      <td id=\"T_34b0c_row1_col0\" class=\"data row1 col0\" >41.80</td>\n",
       "      <td id=\"T_34b0c_row1_col1\" class=\"data row1 col1\" >0.08</td>\n",
       "      <td id=\"T_34b0c_row1_col2\" class=\"data row1 col2\" >0.04</td>\n",
       "      <td id=\"T_34b0c_row1_col3\" class=\"data row1 col3\" >27.32</td>\n",
       "      <td id=\"T_34b0c_row1_col4\" class=\"data row1 col4\" >5.53</td>\n",
       "      <td id=\"T_34b0c_row1_col5\" class=\"data row1 col5\" >138.22</td>\n",
       "      <td id=\"T_34b0c_row1_col6\" class=\"data row1 col6\" >0.09</td>\n",
       "    </tr>\n",
       "    <tr>\n",
       "      <th id=\"T_34b0c_level0_row2\" class=\"row_heading level0 row2\" >std</th>\n",
       "      <td id=\"T_34b0c_row2_col0\" class=\"data row2 col0\" >22.46</td>\n",
       "      <td id=\"T_34b0c_row2_col1\" class=\"data row2 col1\" >0.27</td>\n",
       "      <td id=\"T_34b0c_row2_col2\" class=\"data row2 col2\" >0.20</td>\n",
       "      <td id=\"T_34b0c_row2_col3\" class=\"data row2 col3\" >6.77</td>\n",
       "      <td id=\"T_34b0c_row2_col4\" class=\"data row2 col4\" >1.07</td>\n",
       "      <td id=\"T_34b0c_row2_col5\" class=\"data row2 col5\" >40.91</td>\n",
       "      <td id=\"T_34b0c_row2_col6\" class=\"data row2 col6\" >0.28</td>\n",
       "    </tr>\n",
       "    <tr>\n",
       "      <th id=\"T_34b0c_level0_row3\" class=\"row_heading level0 row3\" >min</th>\n",
       "      <td id=\"T_34b0c_row3_col0\" class=\"data row3 col0\" >0.08</td>\n",
       "      <td id=\"T_34b0c_row3_col1\" class=\"data row3 col1\" >0.00</td>\n",
       "      <td id=\"T_34b0c_row3_col2\" class=\"data row3 col2\" >0.00</td>\n",
       "      <td id=\"T_34b0c_row3_col3\" class=\"data row3 col3\" >10.01</td>\n",
       "      <td id=\"T_34b0c_row3_col4\" class=\"data row3 col4\" >3.50</td>\n",
       "      <td id=\"T_34b0c_row3_col5\" class=\"data row3 col5\" >80.00</td>\n",
       "      <td id=\"T_34b0c_row3_col6\" class=\"data row3 col6\" >0.00</td>\n",
       "    </tr>\n",
       "    <tr>\n",
       "      <th id=\"T_34b0c_level0_row4\" class=\"row_heading level0 row4\" >25%</th>\n",
       "      <td id=\"T_34b0c_row4_col0\" class=\"data row4 col0\" >24.00</td>\n",
       "      <td id=\"T_34b0c_row4_col1\" class=\"data row4 col1\" >0.00</td>\n",
       "      <td id=\"T_34b0c_row4_col2\" class=\"data row4 col2\" >0.00</td>\n",
       "      <td id=\"T_34b0c_row4_col3\" class=\"data row4 col3\" >23.40</td>\n",
       "      <td id=\"T_34b0c_row4_col4\" class=\"data row4 col4\" >4.80</td>\n",
       "      <td id=\"T_34b0c_row4_col5\" class=\"data row4 col5\" >100.00</td>\n",
       "      <td id=\"T_34b0c_row4_col6\" class=\"data row4 col6\" >0.00</td>\n",
       "    </tr>\n",
       "    <tr>\n",
       "      <th id=\"T_34b0c_level0_row5\" class=\"row_heading level0 row5\" >50%</th>\n",
       "      <td id=\"T_34b0c_row5_col0\" class=\"data row5 col0\" >43.00</td>\n",
       "      <td id=\"T_34b0c_row5_col1\" class=\"data row5 col1\" >0.00</td>\n",
       "      <td id=\"T_34b0c_row5_col2\" class=\"data row5 col2\" >0.00</td>\n",
       "      <td id=\"T_34b0c_row5_col3\" class=\"data row5 col3\" >27.32</td>\n",
       "      <td id=\"T_34b0c_row5_col4\" class=\"data row5 col4\" >5.80</td>\n",
       "      <td id=\"T_34b0c_row5_col5\" class=\"data row5 col5\" >140.00</td>\n",
       "      <td id=\"T_34b0c_row5_col6\" class=\"data row5 col6\" >0.00</td>\n",
       "    </tr>\n",
       "    <tr>\n",
       "      <th id=\"T_34b0c_level0_row6\" class=\"row_heading level0 row6\" >75%</th>\n",
       "      <td id=\"T_34b0c_row6_col0\" class=\"data row6 col0\" >59.00</td>\n",
       "      <td id=\"T_34b0c_row6_col1\" class=\"data row6 col1\" >0.00</td>\n",
       "      <td id=\"T_34b0c_row6_col2\" class=\"data row6 col2\" >0.00</td>\n",
       "      <td id=\"T_34b0c_row6_col3\" class=\"data row6 col3\" >29.86</td>\n",
       "      <td id=\"T_34b0c_row6_col4\" class=\"data row6 col4\" >6.20</td>\n",
       "      <td id=\"T_34b0c_row6_col5\" class=\"data row6 col5\" >159.00</td>\n",
       "      <td id=\"T_34b0c_row6_col6\" class=\"data row6 col6\" >0.00</td>\n",
       "    </tr>\n",
       "    <tr>\n",
       "      <th id=\"T_34b0c_level0_row7\" class=\"row_heading level0 row7\" >max</th>\n",
       "      <td id=\"T_34b0c_row7_col0\" class=\"data row7 col0\" >80.00</td>\n",
       "      <td id=\"T_34b0c_row7_col1\" class=\"data row7 col1\" >1.00</td>\n",
       "      <td id=\"T_34b0c_row7_col2\" class=\"data row7 col2\" >1.00</td>\n",
       "      <td id=\"T_34b0c_row7_col3\" class=\"data row7 col3\" >95.69</td>\n",
       "      <td id=\"T_34b0c_row7_col4\" class=\"data row7 col4\" >9.00</td>\n",
       "      <td id=\"T_34b0c_row7_col5\" class=\"data row7 col5\" >300.00</td>\n",
       "      <td id=\"T_34b0c_row7_col6\" class=\"data row7 col6\" >1.00</td>\n",
       "    </tr>\n",
       "  </tbody>\n",
       "</table>\n"
      ],
      "text/plain": [
       "<pandas.io.formats.style.Styler at 0x1c45a723810>"
      ]
     },
     "execution_count": 8,
     "metadata": {},
     "output_type": "execute_result"
    }
   ],
   "source": [
    "df.describe().style.format(\"{:.2f}\")"
   ]
  },
  {
   "cell_type": "code",
   "execution_count": 9,
   "id": "9794de40-b041-4a13-bde6-3f6874cc0b5b",
   "metadata": {},
   "outputs": [
    {
     "name": "stdout",
     "output_type": "stream",
     "text": [
      "smoking_history\n",
      "non-smoker     67276\n",
      "past_smoker    19655\n",
      "current         9197\n",
      "Name: count, dtype: int64\n"
     ]
    }
   ],
   "source": [
    "# Define a function to map the existing categories to new ones\n",
    "def recategorize_smoking(smoking_status):\n",
    "    if smoking_status in ['never', 'No Info']:\n",
    "        return 'non-smoker'\n",
    "    elif smoking_status == 'current':\n",
    "        return 'current'\n",
    "    elif smoking_status in ['ever', 'former', 'not current']:\n",
    "        return 'past_smoker'\n",
    "\n",
    "# Apply the function to the 'smoking_history' column\n",
    "df['smoking_history'] = df['smoking_history'].apply(recategorize_smoking)\n",
    "\n",
    "# Check the new value counts\n",
    "print(df['smoking_history'].value_counts())"
   ]
  },
  {
   "cell_type": "code",
   "execution_count": 10,
   "id": "f5fd2706-1cad-4b5c-a395-a66724932e48",
   "metadata": {},
   "outputs": [],
   "source": [
    "data = df.copy()"
   ]
  },
  {
   "cell_type": "code",
   "execution_count": 11,
   "id": "875eb623-7281-4be1-8908-286a23f76701",
   "metadata": {},
   "outputs": [],
   "source": [
    "def perform_one_hot_encoding(df, column_name):\n",
    "    # Perform one-hot encoding on the specified column\n",
    "    dummies = pd.get_dummies(df[column_name], prefix=column_name)\n",
    "\n",
    "    # Drop the original column and append the new dummy columns to the dataframe\n",
    "    df = pd.concat([df.drop(column_name, axis=1), dummies], axis=1)\n",
    "\n",
    "    return df\n",
    "\n",
    "# Perform one-hot encoding on the gender variable\n",
    "data = perform_one_hot_encoding(data, 'gender')\n",
    "\n",
    "# Perform one-hot encoding on the smoking history variable\n",
    "data = perform_one_hot_encoding(data, 'smoking_history')"
   ]
  },
  {
   "cell_type": "code",
   "execution_count": 12,
   "id": "3e1240f6-2745-4535-bc5b-dc0b04b6f222",
   "metadata": {},
   "outputs": [],
   "source": [
    "# Define resampling\n",
    "over = SMOTE(sampling_strategy=0.1)\n",
    "under = RandomUnderSampler(sampling_strategy=0.5)"
   ]
  },
  {
   "cell_type": "code",
   "execution_count": 13,
   "id": "40df2b2c-b9c0-4d17-905e-4a6a305b442c",
   "metadata": {},
   "outputs": [],
   "source": [
    "# Define preprocessor\n",
    "preprocessor = ColumnTransformer(\n",
    "    transformers=[\n",
    "        ('num', StandardScaler(), ['age', 'bmi', 'HbA1c_level', 'blood_glucose_level','hypertension','heart_disease']),\n",
    "        ('cat', OneHotEncoder(), ['gender','smoking_history'])\n",
    "    ])\n",
    "\n",
    "# Split data into features and target variable\n",
    "X = df.drop('diabetes', axis=1)\n",
    "y = df['diabetes']"
   ]
  },
  {
   "cell_type": "code",
   "execution_count": 14,
   "id": "8d1e0d1e-7a8b-43bc-b313-bf5f5e38dbaf",
   "metadata": {},
   "outputs": [],
   "source": [
    "# Create a pipeline that preprocesses the data, resamples data, and then trains a classifier\n",
    "clf = imbPipeline(steps=[('preprocessor', preprocessor),\n",
    "                      ('over', over),\n",
    "                      ('under', under),\n",
    "                      ('classifier', RandomForestClassifier())])"
   ]
  },
  {
   "cell_type": "code",
   "execution_count": 15,
   "id": "51705af1-556d-4728-8b7e-3e664c9ed405",
   "metadata": {},
   "outputs": [],
   "source": [
    "# Define the hyperparameters and the values we want to test\n",
    "param_grid = {\n",
    "    'classifier__n_estimators': [50, 100, 200],\n",
    "    'classifier__max_depth': [None, 10, 20],\n",
    "    'classifier__min_samples_split': [2, 5, 10],\n",
    "    'classifier__min_samples_leaf': [1, 2, 4]\n",
    "}"
   ]
  },
  {
   "cell_type": "code",
   "execution_count": 16,
   "id": "89eebece-57cb-42bb-ac7a-7f773a4f45a3",
   "metadata": {},
   "outputs": [
    {
     "name": "stdout",
     "output_type": "stream",
     "text": [
      "Best Parameters:  {'classifier__max_depth': 10, 'classifier__min_samples_leaf': 4, 'classifier__min_samples_split': 2, 'classifier__n_estimators': 200}\n"
     ]
    }
   ],
   "source": [
    "# Create Grid Search object\n",
    "grid_search = GridSearchCV(clf, param_grid, cv=5)\n",
    "\n",
    "# Split data into train and test sets\n",
    "X_train, X_test, y_train, y_test = train_test_split(X, y, test_size=0.2, random_state=42)\n",
    "\n",
    "# Train the model\n",
    "grid_search.fit(X_train, y_train)\n",
    "\n",
    "# Print the best parameters\n",
    "print(\"Best Parameters: \", grid_search.best_params_)"
   ]
  },
  {
   "cell_type": "code",
   "execution_count": 17,
   "id": "3d91230e-fef0-4b5d-9393-701688f1f2b0",
   "metadata": {},
   "outputs": [
    {
     "name": "stdout",
     "output_type": "stream",
     "text": [
      "Model Accuracy:  0.9498075522729637\n",
      "              precision    recall  f1-score   support\n",
      "\n",
      "           0       0.98      0.96      0.97     17525\n",
      "           1       0.69      0.80      0.74      1701\n",
      "\n",
      "    accuracy                           0.95     19226\n",
      "   macro avg       0.83      0.88      0.86     19226\n",
      "weighted avg       0.95      0.95      0.95     19226\n",
      "\n"
     ]
    }
   ],
   "source": [
    "# Predict on the test set using the best model\n",
    "y_pred = grid_search.predict(X_test)\n",
    "\n",
    "# Evaluate the model\n",
    "print(\"Model Accuracy: \", accuracy_score(y_test, y_pred))\n",
    "print(classification_report(y_test, y_pred))\n"
   ]
  },
  {
   "cell_type": "code",
   "execution_count": 18,
   "id": "459210d3-67c0-42db-86c7-20160de615e5",
   "metadata": {},
   "outputs": [
    {
     "name": "stdout",
     "output_type": "stream",
     "text": [
      "                        Feature  Importance\n",
      "2                   HbA1c_level        0.44\n",
      "3           blood_glucose_level        0.33\n",
      "0                           age        0.12\n",
      "1                           BMI        0.07\n",
      "4                  hypertension        0.03\n",
      "5                 heart_disease        0.02\n",
      "9    smoking_history_non-smoker        0.00\n",
      "10  smoking_history_past_smoker        0.00\n",
      "7                   gender_Male        0.00\n",
      "6                 gender_Female        0.00\n",
      "8       smoking_history_current        0.00\n"
     ]
    }
   ],
   "source": [
    "# After fitting the model, we input feature names\n",
    "onehot_columns = list(grid_search.best_estimator_.named_steps['preprocessor'].named_transformers_['cat'].get_feature_names_out(['gender', 'smoking_history']))\n",
    "\n",
    "# Then we add the numeric feature names\n",
    "feature_names = ['age', 'BMI', 'HbA1c_level', 'blood_glucose_level', 'hypertension', 'heart_disease'] + onehot_columns\n",
    "\n",
    "# And now let's get the feature importances\n",
    "importances = grid_search.best_estimator_.named_steps['classifier'].feature_importances_\n",
    "\n",
    "# Create a dataframe for feature importance\n",
    "importance_df = pd.DataFrame({'Feature': feature_names, 'Importance': importances})\n",
    "\n",
    "# Sort the dataframe by importance\n",
    "importance_df = importance_df.sort_values('Importance', ascending=False)\n",
    "\n",
    "# Print the feature importances\n",
    "print(importance_df)\n"
   ]
  },
  {
   "cell_type": "code",
   "execution_count": null,
   "id": "f100b89b-9f96-4a0d-927e-f9833749d18b",
   "metadata": {},
   "outputs": [],
   "source": []
  }
 ],
 "metadata": {
  "kernelspec": {
   "display_name": "Python 3 (ipykernel)",
   "language": "python",
   "name": "python3"
  },
  "language_info": {
   "codemirror_mode": {
    "name": "ipython",
    "version": 3
   },
   "file_extension": ".py",
   "mimetype": "text/x-python",
   "name": "python",
   "nbconvert_exporter": "python",
   "pygments_lexer": "ipython3",
   "version": "3.11.2"
  }
 },
 "nbformat": 4,
 "nbformat_minor": 5
}
