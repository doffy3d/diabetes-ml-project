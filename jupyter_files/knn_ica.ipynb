{
 "cells": [
  {
   "cell_type": "code",
   "execution_count": 1,
   "id": "c15abe00-2460-4848-a1a5-1d5a201451a7",
   "metadata": {},
   "outputs": [],
   "source": [
    "import pandas as pd\n",
    "from sklearn.model_selection import train_test_split, GridSearchCV\n",
    "from sklearn.preprocessing import StandardScaler, OneHotEncoder\n",
    "from imblearn.over_sampling import SMOTE\n",
    "from imblearn.under_sampling import RandomUnderSampler\n",
    "from imblearn.pipeline import Pipeline as imbPipeline\n",
    "from sklearn.neighbors import KNeighborsClassifier\n",
    "from sklearn.metrics import accuracy_score, classification_report\n",
    "from sklearn.decomposition import FastICA  # Change to FastICA for ICA\n",
    "from sklearn.feature_selection import SelectKBest, mutual_info_classif\n",
    "from sklearn.compose import ColumnTransformer"
   ]
  },
  {
   "cell_type": "code",
   "execution_count": 2,
   "id": "96cf595c-04c0-494b-a603-0866a72e3e35",
   "metadata": {},
   "outputs": [
    {
     "name": "stdout",
     "output_type": "stream",
     "text": [
      "number of duplicate rows:  (3854, 9)\n"
     ]
    }
   ],
   "source": [
    "# Load data\n",
    "df = pd.read_csv(\"diabetes_prediction_dataset.csv\")\n",
    "\n",
    "# Handle duplicates\n",
    "duplicate_rows_data = df[df.duplicated()]\n",
    "print(\"number of duplicate rows: \", duplicate_rows_data.shape)\n",
    "df = df.drop_duplicates()\n",
    "\n",
    "# Remove Unnecessary value [0.00195%]\n",
    "df = df[df['gender'] != 'Other']\n"
   ]
  },
  {
   "cell_type": "code",
   "execution_count": 3,
   "id": "642902b6-bc5e-48f7-9d19-3c7ec66f52ef",
   "metadata": {},
   "outputs": [],
   "source": [
    "# Recategorize smoking history\n",
    "def recategorize_smoking(smoking_status):\n",
    "    if smoking_status in ['never', 'No Info']:\n",
    "        return 'non-smoker'\n",
    "    elif smoking_status == 'current':\n",
    "        return 'current'\n",
    "    elif smoking_status in ['ever', 'former', 'not current']:\n",
    "        return 'past_smoker'\n",
    "\n",
    "df['smoking_history'] = df['smoking_history'].apply(recategorize_smoking)\n"
   ]
  },
  {
   "cell_type": "code",
   "execution_count": 4,
   "id": "e6b69e57-a420-4f1b-9a22-c605bcc6b7c8",
   "metadata": {},
   "outputs": [],
   "source": [
    "# One-hot encoding\n",
    "def perform_one_hot_encoding(df, column_name):\n",
    "    dummies = pd.get_dummies(df[column_name], prefix=column_name)\n",
    "    df = pd.concat([df.drop(column_name, axis=1), dummies], axis=1)\n",
    "    return df\n",
    "\n",
    "data = df.copy()\n",
    "data = perform_one_hot_encoding(data, 'gender')\n",
    "data = perform_one_hot_encoding(data, 'smoking_history')\n"
   ]
  },
  {
   "cell_type": "code",
   "execution_count": 5,
   "id": "f9236147-68f1-4ab3-9806-9141321a888e",
   "metadata": {},
   "outputs": [],
   "source": [
    "# Resampling\n",
    "over = SMOTE(sampling_strategy=0.1)\n",
    "under = RandomUnderSampler(sampling_strategy=0.5)\n",
    "\n",
    "# Preprocessing with ICA\n",
    "preprocessor_ica = ColumnTransformer(\n",
    "    transformers=[\n",
    "        ('num', StandardScaler(), ['age', 'bmi', 'HbA1c_level', 'blood_glucose_level', 'hypertension', 'heart_disease']),\n",
    "        ('cat', OneHotEncoder(), ['gender', 'smoking_history'])\n",
    "    ])\n",
    "\n",
    "ica = FastICA(n_components=5)  # Adjust the number of components based on your requirements\n"
   ]
  },
  {
   "cell_type": "code",
   "execution_count": 6,
   "id": "0de227c1-4e88-4508-8f2d-bc07a98231d1",
   "metadata": {},
   "outputs": [],
   "source": [
    "# SelectKBest with Mutual Information for feature selection\n",
    "feature_selection = SelectKBest(mutual_info_classif, k=5)  # Adjust k based on your requirements\n",
    "\n",
    "# Define k-NN classifier\n",
    "knn_classifier = KNeighborsClassifier()\n"
   ]
  },
  {
   "cell_type": "code",
   "execution_count": 7,
   "id": "dc16c4fc-e939-4fb8-beef-6055f398b64a",
   "metadata": {},
   "outputs": [],
   "source": [
    "# Create a pipeline that preprocesses the data, performs feature selection, resamples data, and then trains a classifier\n",
    "clf_ica = imbPipeline(steps=[\n",
    "    ('preprocessor_ica', preprocessor_ica),\n",
    "    ('ica', ica),\n",
    "    ('feature_selection', feature_selection),\n",
    "    ('over', over),\n",
    "    ('under', under),\n",
    "    ('classifier', knn_classifier)\n",
    "])\n",
    "\n",
    "param_grid_ica = {\n",
    "    'classifier__n_neighbors': [25],\n",
    "    'classifier__algorithm': ['auto'],\n",
    "    'classifier__leaf_size': [5],\n",
    "    'classifier__weights': ['uniform'],\n",
    "    'classifier__p': [2]  # L2-norm (Euclidean)\n",
    "}\n",
    "\n",
    "# Create Grid Search object for ICA\n",
    "grid_search_ica = GridSearchCV(clf_ica, param_grid_ica, cv=5)"
   ]
  },
  {
   "cell_type": "code",
   "execution_count": 8,
   "id": "3cfc5a21-8147-4fd8-beba-7df814844e57",
   "metadata": {},
   "outputs": [],
   "source": [
    "# Split data into train and test sets\n",
    "X = df.drop('diabetes', axis=1)\n",
    "y = df['diabetes']\n",
    "\n",
    "# Split data into train and test sets\n",
    "X_train, X_test, y_train, y_test = train_test_split(X, y, test_size=0.2, random_state=42)\n"
   ]
  },
  {
   "cell_type": "code",
   "execution_count": 9,
   "id": "9f32e9c6-9132-4f6d-8ad4-120c2a8bac87",
   "metadata": {},
   "outputs": [
    {
     "name": "stdout",
     "output_type": "stream",
     "text": [
      "Best Parameters with ICA:  {'classifier__algorithm': 'auto', 'classifier__leaf_size': 5, 'classifier__n_neighbors': 25, 'classifier__p': 2, 'classifier__weights': 'uniform'}\n"
     ]
    }
   ],
   "source": [
    "# Train the model with ICA\n",
    "grid_search_ica.fit(X_train, y_train)\n",
    "\n",
    "# Print the best parameters with ICA\n",
    "print(\"Best Parameters with ICA: \", grid_search_ica.best_params_)"
   ]
  },
  {
   "cell_type": "code",
   "execution_count": 10,
   "id": "f2cef224-8c03-4c3c-96bc-d86b3b5a3d05",
   "metadata": {},
   "outputs": [
    {
     "name": "stdout",
     "output_type": "stream",
     "text": [
      "Model Accuracy with ICA:  0.9336315406220743\n",
      "              precision    recall  f1-score   support\n",
      "\n",
      "           0       0.98      0.95      0.96     17525\n",
      "           1       0.59      0.82      0.68      1701\n",
      "\n",
      "    accuracy                           0.93     19226\n",
      "   macro avg       0.79      0.88      0.82     19226\n",
      "weighted avg       0.95      0.93      0.94     19226\n",
      "\n"
     ]
    }
   ],
   "source": [
    "# Predict on the test set using the best model with ICA\n",
    "y_pred_ica = grid_search_ica.predict(X_test)\n",
    "\n",
    "# Evaluate the model with ICA\n",
    "print(\"Model Accuracy with ICA: \", accuracy_score(y_test, y_pred_ica))\n",
    "print(classification_report(y_test, y_pred_ica))"
   ]
  },
  {
   "cell_type": "code",
   "execution_count": null,
   "id": "0afa236b-ad8f-4748-a0af-6eab1af06a94",
   "metadata": {},
   "outputs": [],
   "source": []
  }
 ],
 "metadata": {
  "kernelspec": {
   "display_name": "Python 3 (ipykernel)",
   "language": "python",
   "name": "python3"
  },
  "language_info": {
   "codemirror_mode": {
    "name": "ipython",
    "version": 3
   },
   "file_extension": ".py",
   "mimetype": "text/x-python",
   "name": "python",
   "nbconvert_exporter": "python",
   "pygments_lexer": "ipython3",
   "version": "3.11.2"
  }
 },
 "nbformat": 4,
 "nbformat_minor": 5
}
