{
 "cells": [
  {
   "cell_type": "code",
   "execution_count": 1,
   "id": "60c29922-708b-4de4-b7f3-bde7345a2ebd",
   "metadata": {},
   "outputs": [],
   "source": [
    "import warnings\n",
    "warnings.filterwarnings('ignore')\n",
    "\n",
    "# Import Necessary libraries\n",
    "import numpy as np \n",
    "import pandas as pd \n",
    "\n",
    "# Import Model\n",
    "from sklearn.model_selection import train_test_split, GridSearchCV\n",
    "from sklearn.preprocessing import StandardScaler, OneHotEncoder\n",
    "from sklearn.compose import ColumnTransformer\n",
    "from sklearn.decomposition import PCA\n",
    "from sklearn.naive_bayes import GaussianNB\n",
    "from sklearn.metrics import accuracy_score, classification_report\n",
    "from sklearn.pipeline import Pipeline\n",
    "\n",
    "# Import Sampler libraries\n",
    "from imblearn.over_sampling import SMOTE\n",
    "from imblearn.under_sampling import RandomUnderSampler\n",
    "from imblearn.pipeline import Pipeline as imbPipeline\n"
   ]
  },
  {
   "cell_type": "code",
   "execution_count": 2,
   "id": "1b61117a-3050-48a1-83f4-65e84297b68c",
   "metadata": {},
   "outputs": [],
   "source": [
    "# Set the decimal format\n",
    "pd.options.display.float_format = \"{:.2f}\".format"
   ]
  },
  {
   "cell_type": "code",
   "execution_count": 3,
   "id": "209bca11-97b7-4286-9e54-e574fa4594b3",
   "metadata": {},
   "outputs": [],
   "source": [
    "# Read the data\n",
    "df = pd.read_csv(\"diabetes_prediction_dataset.csv\")"
   ]
  },
  {
   "cell_type": "code",
   "execution_count": 4,
   "id": "cfc9dba1-d439-4878-9960-8525b31b7ccd",
   "metadata": {},
   "outputs": [],
   "source": [
    "# Handle duplicates\n",
    "df = df.drop_duplicates()"
   ]
  },
  {
   "cell_type": "code",
   "execution_count": 5,
   "id": "b259411f-d1e8-4902-b2ee-e01854a5aefc",
   "metadata": {},
   "outputs": [],
   "source": [
    "# Remove unnecessary values [0.00195%]\n",
    "df = df[df['gender'] != 'Other']"
   ]
  },
  {
   "cell_type": "code",
   "execution_count": 6,
   "id": "02d28fa3-fc29-41a6-8d49-1be92de97ec6",
   "metadata": {},
   "outputs": [],
   "source": [
    "# Recategorize smoking history\n",
    "def recategorize_smoking(smoking_status):\n",
    "    if smoking_status in ['never', 'No Info']:\n",
    "        return 'non-smoker'\n",
    "    elif smoking_status == 'current':\n",
    "        return 'current'\n",
    "    elif smoking_status in ['ever', 'former', 'not current']:\n",
    "        return 'past_smoker'\n"
   ]
  },
  {
   "cell_type": "code",
   "execution_count": 7,
   "id": "05b62737-d3e3-4cbc-8aa4-d22447586186",
   "metadata": {},
   "outputs": [],
   "source": [
    "df['smoking_history'] = df['smoking_history'].apply(recategorize_smoking)"
   ]
  },
  {
   "cell_type": "code",
   "execution_count": 8,
   "id": "48dfdd14-1570-48ee-a37b-4d00f90f3652",
   "metadata": {},
   "outputs": [],
   "source": [
    "# One-hot encoding\n",
    "def perform_one_hot_encoding(df, column_name):\n",
    "    dummies = pd.get_dummies(df[column_name], prefix=column_name)\n",
    "    df = pd.concat([df.drop(column_name, axis=1), dummies], axis=1)\n",
    "    return df\n"
   ]
  },
  {
   "cell_type": "code",
   "execution_count": 9,
   "id": "d2d07148-e37d-4a0d-aa11-29cbdb77d074",
   "metadata": {},
   "outputs": [],
   "source": [
    "data = df.copy()\n",
    "data = perform_one_hot_encoding(data, 'gender')\n",
    "data = perform_one_hot_encoding(data, 'smoking_history')"
   ]
  },
  {
   "cell_type": "code",
   "execution_count": 10,
   "id": "48ce0844-c788-499b-9d66-2e48e9fd9f09",
   "metadata": {},
   "outputs": [],
   "source": [
    "# Resampling\n",
    "over = SMOTE(sampling_strategy=0.1)\n",
    "under = RandomUnderSampler(sampling_strategy=0.5)"
   ]
  },
  {
   "cell_type": "code",
   "execution_count": 11,
   "id": "a4b63457-1621-4742-b0e0-4db47e336227",
   "metadata": {},
   "outputs": [],
   "source": [
    "# Feature Selection and PCA\n",
    "X = data.drop('diabetes', axis=1)\n",
    "y = data['diabetes']"
   ]
  },
  {
   "cell_type": "code",
   "execution_count": 12,
   "id": "9131599c-f04d-4a43-8710-7059c8fb4462",
   "metadata": {},
   "outputs": [],
   "source": [
    "# You can customize the feature selection and PCA steps based on your specific needs\n",
    "# Here, I'm using PCA to reduce the dimensionality to 12 features\n",
    "preprocessor = ColumnTransformer(\n",
    "    transformers=[\n",
    "        ('num', StandardScaler(), X.select_dtypes(include='number').columns),\n",
    "        ('cat', OneHotEncoder(), X.select_dtypes(include='object').columns),\n",
    "        ('pca', PCA(n_components=11), X.columns)  # Adjust the number of components as needed\n",
    "    ])\n"
   ]
  },
  {
   "cell_type": "code",
   "execution_count": 13,
   "id": "ad9da292-5293-48ef-82b7-acdc9d6e63ce",
   "metadata": {},
   "outputs": [],
   "source": [
    "# Model Pipeline with Gaussian Naive Bayes (without GridSearchCV)\n",
    "clf = imbPipeline(steps=[\n",
    "    ('preprocessor', preprocessor),\n",
    "    ('over', over),\n",
    "    ('under', under),\n",
    "    ('classifier', GaussianNB())\n",
    "])\n"
   ]
  },
  {
   "cell_type": "code",
   "execution_count": 14,
   "id": "80c71a2c-83cf-4367-9764-2e72c3cd080c",
   "metadata": {},
   "outputs": [],
   "source": [
    "param_grid = {\n",
    "    'classifier__var_smoothing': [0.08112]\n",
    "}"
   ]
  },
  {
   "cell_type": "code",
   "execution_count": 15,
   "id": "c1b7c8a8-cd06-4c5c-a859-34240ecc3fbc",
   "metadata": {},
   "outputs": [],
   "source": [
    "# Create Grid Search object\n",
    "grid_search = GridSearchCV(clf, param_grid, cv=5)"
   ]
  },
  {
   "cell_type": "code",
   "execution_count": 16,
   "id": "40b1f0e1-912c-48e6-a26f-976041707be6",
   "metadata": {},
   "outputs": [],
   "source": [
    "# Split data into train and test sets\n",
    "X_train, X_test, y_train, y_test = train_test_split(X, y, test_size=0.2, random_state=42)\n"
   ]
  },
  {
   "cell_type": "code",
   "execution_count": 17,
   "id": "44248012-af32-4146-b905-56bc20232efd",
   "metadata": {},
   "outputs": [
    {
     "data": {
      "text/html": [
       "<style>#sk-container-id-1 {color: black;}#sk-container-id-1 pre{padding: 0;}#sk-container-id-1 div.sk-toggleable {background-color: white;}#sk-container-id-1 label.sk-toggleable__label {cursor: pointer;display: block;width: 100%;margin-bottom: 0;padding: 0.3em;box-sizing: border-box;text-align: center;}#sk-container-id-1 label.sk-toggleable__label-arrow:before {content: \"▸\";float: left;margin-right: 0.25em;color: #696969;}#sk-container-id-1 label.sk-toggleable__label-arrow:hover:before {color: black;}#sk-container-id-1 div.sk-estimator:hover label.sk-toggleable__label-arrow:before {color: black;}#sk-container-id-1 div.sk-toggleable__content {max-height: 0;max-width: 0;overflow: hidden;text-align: left;background-color: #f0f8ff;}#sk-container-id-1 div.sk-toggleable__content pre {margin: 0.2em;color: black;border-radius: 0.25em;background-color: #f0f8ff;}#sk-container-id-1 input.sk-toggleable__control:checked~div.sk-toggleable__content {max-height: 200px;max-width: 100%;overflow: auto;}#sk-container-id-1 input.sk-toggleable__control:checked~label.sk-toggleable__label-arrow:before {content: \"▾\";}#sk-container-id-1 div.sk-estimator input.sk-toggleable__control:checked~label.sk-toggleable__label {background-color: #d4ebff;}#sk-container-id-1 div.sk-label input.sk-toggleable__control:checked~label.sk-toggleable__label {background-color: #d4ebff;}#sk-container-id-1 input.sk-hidden--visually {border: 0;clip: rect(1px 1px 1px 1px);clip: rect(1px, 1px, 1px, 1px);height: 1px;margin: -1px;overflow: hidden;padding: 0;position: absolute;width: 1px;}#sk-container-id-1 div.sk-estimator {font-family: monospace;background-color: #f0f8ff;border: 1px dotted black;border-radius: 0.25em;box-sizing: border-box;margin-bottom: 0.5em;}#sk-container-id-1 div.sk-estimator:hover {background-color: #d4ebff;}#sk-container-id-1 div.sk-parallel-item::after {content: \"\";width: 100%;border-bottom: 1px solid gray;flex-grow: 1;}#sk-container-id-1 div.sk-label:hover label.sk-toggleable__label {background-color: #d4ebff;}#sk-container-id-1 div.sk-serial::before {content: \"\";position: absolute;border-left: 1px solid gray;box-sizing: border-box;top: 0;bottom: 0;left: 50%;z-index: 0;}#sk-container-id-1 div.sk-serial {display: flex;flex-direction: column;align-items: center;background-color: white;padding-right: 0.2em;padding-left: 0.2em;position: relative;}#sk-container-id-1 div.sk-item {position: relative;z-index: 1;}#sk-container-id-1 div.sk-parallel {display: flex;align-items: stretch;justify-content: center;background-color: white;position: relative;}#sk-container-id-1 div.sk-item::before, #sk-container-id-1 div.sk-parallel-item::before {content: \"\";position: absolute;border-left: 1px solid gray;box-sizing: border-box;top: 0;bottom: 0;left: 50%;z-index: -1;}#sk-container-id-1 div.sk-parallel-item {display: flex;flex-direction: column;z-index: 1;position: relative;background-color: white;}#sk-container-id-1 div.sk-parallel-item:first-child::after {align-self: flex-end;width: 50%;}#sk-container-id-1 div.sk-parallel-item:last-child::after {align-self: flex-start;width: 50%;}#sk-container-id-1 div.sk-parallel-item:only-child::after {width: 0;}#sk-container-id-1 div.sk-dashed-wrapped {border: 1px dashed gray;margin: 0 0.4em 0.5em 0.4em;box-sizing: border-box;padding-bottom: 0.4em;background-color: white;}#sk-container-id-1 div.sk-label label {font-family: monospace;font-weight: bold;display: inline-block;line-height: 1.2em;}#sk-container-id-1 div.sk-label-container {text-align: center;}#sk-container-id-1 div.sk-container {/* jupyter's `normalize.less` sets `[hidden] { display: none; }` but bootstrap.min.css set `[hidden] { display: none !important; }` so we also need the `!important` here to be able to override the default hidden behavior on the sphinx rendered scikit-learn.org. See: https://github.com/scikit-learn/scikit-learn/issues/21755 */display: inline-block !important;position: relative;}#sk-container-id-1 div.sk-text-repr-fallback {display: none;}</style><div id=\"sk-container-id-1\" class=\"sk-top-container\"><div class=\"sk-text-repr-fallback\"><pre>GridSearchCV(cv=5,\n",
       "             estimator=Pipeline(steps=[(&#x27;preprocessor&#x27;,\n",
       "                                        ColumnTransformer(transformers=[(&#x27;num&#x27;,\n",
       "                                                                         StandardScaler(),\n",
       "                                                                         Index([&#x27;age&#x27;, &#x27;hypertension&#x27;, &#x27;heart_disease&#x27;, &#x27;bmi&#x27;, &#x27;HbA1c_level&#x27;,\n",
       "       &#x27;blood_glucose_level&#x27;],\n",
       "      dtype=&#x27;object&#x27;)),\n",
       "                                                                        (&#x27;cat&#x27;,\n",
       "                                                                         OneHotEncoder(),\n",
       "                                                                         Index([], dtype=&#x27;object&#x27;)),\n",
       "                                                                        (&#x27;pca&#x27;,\n",
       "                                                                         PCA(n_components=11),\n",
       "                                                                         Index([&#x27;age&#x27;, &#x27;hypertension&#x27;, &#x27;heart_disease&#x27;, &#x27;bmi&#x27;, &#x27;HbA1c_level&#x27;,\n",
       "       &#x27;blood_glucose_level&#x27;, &#x27;gender_Female&#x27;, &#x27;gender_Male&#x27;,\n",
       "       &#x27;smoking_history_current&#x27;, &#x27;smoking_history_non-smoker&#x27;,\n",
       "       &#x27;smoking_history_past_smoker&#x27;],\n",
       "      dtype=&#x27;object&#x27;))])),\n",
       "                                       (&#x27;over&#x27;, SMOTE(sampling_strategy=0.1)),\n",
       "                                       (&#x27;under&#x27;,\n",
       "                                        RandomUnderSampler(sampling_strategy=0.5)),\n",
       "                                       (&#x27;classifier&#x27;, GaussianNB())]),\n",
       "             param_grid={&#x27;classifier__var_smoothing&#x27;: [0.08112]})</pre><b>In a Jupyter environment, please rerun this cell to show the HTML representation or trust the notebook. <br />On GitHub, the HTML representation is unable to render, please try loading this page with nbviewer.org.</b></div><div class=\"sk-container\" hidden><div class=\"sk-item sk-dashed-wrapped\"><div class=\"sk-label-container\"><div class=\"sk-label sk-toggleable\"><input class=\"sk-toggleable__control sk-hidden--visually\" id=\"sk-estimator-id-1\" type=\"checkbox\" ><label for=\"sk-estimator-id-1\" class=\"sk-toggleable__label sk-toggleable__label-arrow\">GridSearchCV</label><div class=\"sk-toggleable__content\"><pre>GridSearchCV(cv=5,\n",
       "             estimator=Pipeline(steps=[(&#x27;preprocessor&#x27;,\n",
       "                                        ColumnTransformer(transformers=[(&#x27;num&#x27;,\n",
       "                                                                         StandardScaler(),\n",
       "                                                                         Index([&#x27;age&#x27;, &#x27;hypertension&#x27;, &#x27;heart_disease&#x27;, &#x27;bmi&#x27;, &#x27;HbA1c_level&#x27;,\n",
       "       &#x27;blood_glucose_level&#x27;],\n",
       "      dtype=&#x27;object&#x27;)),\n",
       "                                                                        (&#x27;cat&#x27;,\n",
       "                                                                         OneHotEncoder(),\n",
       "                                                                         Index([], dtype=&#x27;object&#x27;)),\n",
       "                                                                        (&#x27;pca&#x27;,\n",
       "                                                                         PCA(n_components=11),\n",
       "                                                                         Index([&#x27;age&#x27;, &#x27;hypertension&#x27;, &#x27;heart_disease&#x27;, &#x27;bmi&#x27;, &#x27;HbA1c_level&#x27;,\n",
       "       &#x27;blood_glucose_level&#x27;, &#x27;gender_Female&#x27;, &#x27;gender_Male&#x27;,\n",
       "       &#x27;smoking_history_current&#x27;, &#x27;smoking_history_non-smoker&#x27;,\n",
       "       &#x27;smoking_history_past_smoker&#x27;],\n",
       "      dtype=&#x27;object&#x27;))])),\n",
       "                                       (&#x27;over&#x27;, SMOTE(sampling_strategy=0.1)),\n",
       "                                       (&#x27;under&#x27;,\n",
       "                                        RandomUnderSampler(sampling_strategy=0.5)),\n",
       "                                       (&#x27;classifier&#x27;, GaussianNB())]),\n",
       "             param_grid={&#x27;classifier__var_smoothing&#x27;: [0.08112]})</pre></div></div></div><div class=\"sk-parallel\"><div class=\"sk-parallel-item\"><div class=\"sk-item\"><div class=\"sk-label-container\"><div class=\"sk-label sk-toggleable\"><input class=\"sk-toggleable__control sk-hidden--visually\" id=\"sk-estimator-id-2\" type=\"checkbox\" ><label for=\"sk-estimator-id-2\" class=\"sk-toggleable__label sk-toggleable__label-arrow\">estimator: Pipeline</label><div class=\"sk-toggleable__content\"><pre>Pipeline(steps=[(&#x27;preprocessor&#x27;,\n",
       "                 ColumnTransformer(transformers=[(&#x27;num&#x27;, StandardScaler(),\n",
       "                                                  Index([&#x27;age&#x27;, &#x27;hypertension&#x27;, &#x27;heart_disease&#x27;, &#x27;bmi&#x27;, &#x27;HbA1c_level&#x27;,\n",
       "       &#x27;blood_glucose_level&#x27;],\n",
       "      dtype=&#x27;object&#x27;)),\n",
       "                                                 (&#x27;cat&#x27;, OneHotEncoder(),\n",
       "                                                  Index([], dtype=&#x27;object&#x27;)),\n",
       "                                                 (&#x27;pca&#x27;, PCA(n_components=11),\n",
       "                                                  Index([&#x27;age&#x27;, &#x27;hypertension&#x27;, &#x27;heart_disease&#x27;, &#x27;bmi&#x27;, &#x27;HbA1c_level&#x27;,\n",
       "       &#x27;blood_glucose_level&#x27;, &#x27;gender_Female&#x27;, &#x27;gender_Male&#x27;,\n",
       "       &#x27;smoking_history_current&#x27;, &#x27;smoking_history_non-smoker&#x27;,\n",
       "       &#x27;smoking_history_past_smoker&#x27;],\n",
       "      dtype=&#x27;object&#x27;))])),\n",
       "                (&#x27;over&#x27;, SMOTE(sampling_strategy=0.1)),\n",
       "                (&#x27;under&#x27;, RandomUnderSampler(sampling_strategy=0.5)),\n",
       "                (&#x27;classifier&#x27;, GaussianNB())])</pre></div></div></div><div class=\"sk-serial\"><div class=\"sk-item\"><div class=\"sk-serial\"><div class=\"sk-item sk-dashed-wrapped\"><div class=\"sk-label-container\"><div class=\"sk-label sk-toggleable\"><input class=\"sk-toggleable__control sk-hidden--visually\" id=\"sk-estimator-id-3\" type=\"checkbox\" ><label for=\"sk-estimator-id-3\" class=\"sk-toggleable__label sk-toggleable__label-arrow\">preprocessor: ColumnTransformer</label><div class=\"sk-toggleable__content\"><pre>ColumnTransformer(transformers=[(&#x27;num&#x27;, StandardScaler(),\n",
       "                                 Index([&#x27;age&#x27;, &#x27;hypertension&#x27;, &#x27;heart_disease&#x27;, &#x27;bmi&#x27;, &#x27;HbA1c_level&#x27;,\n",
       "       &#x27;blood_glucose_level&#x27;],\n",
       "      dtype=&#x27;object&#x27;)),\n",
       "                                (&#x27;cat&#x27;, OneHotEncoder(),\n",
       "                                 Index([], dtype=&#x27;object&#x27;)),\n",
       "                                (&#x27;pca&#x27;, PCA(n_components=11),\n",
       "                                 Index([&#x27;age&#x27;, &#x27;hypertension&#x27;, &#x27;heart_disease&#x27;, &#x27;bmi&#x27;, &#x27;HbA1c_level&#x27;,\n",
       "       &#x27;blood_glucose_level&#x27;, &#x27;gender_Female&#x27;, &#x27;gender_Male&#x27;,\n",
       "       &#x27;smoking_history_current&#x27;, &#x27;smoking_history_non-smoker&#x27;,\n",
       "       &#x27;smoking_history_past_smoker&#x27;],\n",
       "      dtype=&#x27;object&#x27;))])</pre></div></div></div><div class=\"sk-parallel\"><div class=\"sk-parallel-item\"><div class=\"sk-item\"><div class=\"sk-label-container\"><div class=\"sk-label sk-toggleable\"><input class=\"sk-toggleable__control sk-hidden--visually\" id=\"sk-estimator-id-4\" type=\"checkbox\" ><label for=\"sk-estimator-id-4\" class=\"sk-toggleable__label sk-toggleable__label-arrow\">num</label><div class=\"sk-toggleable__content\"><pre>Index([&#x27;age&#x27;, &#x27;hypertension&#x27;, &#x27;heart_disease&#x27;, &#x27;bmi&#x27;, &#x27;HbA1c_level&#x27;,\n",
       "       &#x27;blood_glucose_level&#x27;],\n",
       "      dtype=&#x27;object&#x27;)</pre></div></div></div><div class=\"sk-serial\"><div class=\"sk-item\"><div class=\"sk-estimator sk-toggleable\"><input class=\"sk-toggleable__control sk-hidden--visually\" id=\"sk-estimator-id-5\" type=\"checkbox\" ><label for=\"sk-estimator-id-5\" class=\"sk-toggleable__label sk-toggleable__label-arrow\">StandardScaler</label><div class=\"sk-toggleable__content\"><pre>StandardScaler()</pre></div></div></div></div></div></div><div class=\"sk-parallel-item\"><div class=\"sk-item\"><div class=\"sk-label-container\"><div class=\"sk-label sk-toggleable\"><input class=\"sk-toggleable__control sk-hidden--visually\" id=\"sk-estimator-id-6\" type=\"checkbox\" ><label for=\"sk-estimator-id-6\" class=\"sk-toggleable__label sk-toggleable__label-arrow\">cat</label><div class=\"sk-toggleable__content\"><pre>Index([], dtype=&#x27;object&#x27;)</pre></div></div></div><div class=\"sk-serial\"><div class=\"sk-item\"><div class=\"sk-estimator sk-toggleable\"><input class=\"sk-toggleable__control sk-hidden--visually\" id=\"sk-estimator-id-7\" type=\"checkbox\" ><label for=\"sk-estimator-id-7\" class=\"sk-toggleable__label sk-toggleable__label-arrow\">OneHotEncoder</label><div class=\"sk-toggleable__content\"><pre>OneHotEncoder()</pre></div></div></div></div></div></div><div class=\"sk-parallel-item\"><div class=\"sk-item\"><div class=\"sk-label-container\"><div class=\"sk-label sk-toggleable\"><input class=\"sk-toggleable__control sk-hidden--visually\" id=\"sk-estimator-id-8\" type=\"checkbox\" ><label for=\"sk-estimator-id-8\" class=\"sk-toggleable__label sk-toggleable__label-arrow\">pca</label><div class=\"sk-toggleable__content\"><pre>Index([&#x27;age&#x27;, &#x27;hypertension&#x27;, &#x27;heart_disease&#x27;, &#x27;bmi&#x27;, &#x27;HbA1c_level&#x27;,\n",
       "       &#x27;blood_glucose_level&#x27;, &#x27;gender_Female&#x27;, &#x27;gender_Male&#x27;,\n",
       "       &#x27;smoking_history_current&#x27;, &#x27;smoking_history_non-smoker&#x27;,\n",
       "       &#x27;smoking_history_past_smoker&#x27;],\n",
       "      dtype=&#x27;object&#x27;)</pre></div></div></div><div class=\"sk-serial\"><div class=\"sk-item\"><div class=\"sk-estimator sk-toggleable\"><input class=\"sk-toggleable__control sk-hidden--visually\" id=\"sk-estimator-id-9\" type=\"checkbox\" ><label for=\"sk-estimator-id-9\" class=\"sk-toggleable__label sk-toggleable__label-arrow\">PCA</label><div class=\"sk-toggleable__content\"><pre>PCA(n_components=11)</pre></div></div></div></div></div></div></div></div><div class=\"sk-item\"><div class=\"sk-estimator sk-toggleable\"><input class=\"sk-toggleable__control sk-hidden--visually\" id=\"sk-estimator-id-10\" type=\"checkbox\" ><label for=\"sk-estimator-id-10\" class=\"sk-toggleable__label sk-toggleable__label-arrow\">SMOTE</label><div class=\"sk-toggleable__content\"><pre>SMOTE(sampling_strategy=0.1)</pre></div></div></div><div class=\"sk-item\"><div class=\"sk-estimator sk-toggleable\"><input class=\"sk-toggleable__control sk-hidden--visually\" id=\"sk-estimator-id-11\" type=\"checkbox\" ><label for=\"sk-estimator-id-11\" class=\"sk-toggleable__label sk-toggleable__label-arrow\">RandomUnderSampler</label><div class=\"sk-toggleable__content\"><pre>RandomUnderSampler(sampling_strategy=0.5)</pre></div></div></div><div class=\"sk-item\"><div class=\"sk-estimator sk-toggleable\"><input class=\"sk-toggleable__control sk-hidden--visually\" id=\"sk-estimator-id-12\" type=\"checkbox\" ><label for=\"sk-estimator-id-12\" class=\"sk-toggleable__label sk-toggleable__label-arrow\">GaussianNB</label><div class=\"sk-toggleable__content\"><pre>GaussianNB()</pre></div></div></div></div></div></div></div></div></div></div></div></div>"
      ],
      "text/plain": [
       "GridSearchCV(cv=5,\n",
       "             estimator=Pipeline(steps=[('preprocessor',\n",
       "                                        ColumnTransformer(transformers=[('num',\n",
       "                                                                         StandardScaler(),\n",
       "                                                                         Index(['age', 'hypertension', 'heart_disease', 'bmi', 'HbA1c_level',\n",
       "       'blood_glucose_level'],\n",
       "      dtype='object')),\n",
       "                                                                        ('cat',\n",
       "                                                                         OneHotEncoder(),\n",
       "                                                                         Index([], dtype='object')),\n",
       "                                                                        ('pca',\n",
       "                                                                         PCA(n_components=11),\n",
       "                                                                         Index(['age', 'hypertension', 'heart_disease', 'bmi', 'HbA1c_level',\n",
       "       'blood_glucose_level', 'gender_Female', 'gender_Male',\n",
       "       'smoking_history_current', 'smoking_history_non-smoker',\n",
       "       'smoking_history_past_smoker'],\n",
       "      dtype='object'))])),\n",
       "                                       ('over', SMOTE(sampling_strategy=0.1)),\n",
       "                                       ('under',\n",
       "                                        RandomUnderSampler(sampling_strategy=0.5)),\n",
       "                                       ('classifier', GaussianNB())]),\n",
       "             param_grid={'classifier__var_smoothing': [0.08112]})"
      ]
     },
     "execution_count": 17,
     "metadata": {},
     "output_type": "execute_result"
    }
   ],
   "source": [
    "# Train the model with Grid Search\n",
    "grid_search.fit(X_train, y_train)"
   ]
  },
  {
   "cell_type": "code",
   "execution_count": 18,
   "id": "4b17cb94-f459-42b4-8e6f-a131aae219d1",
   "metadata": {},
   "outputs": [
    {
     "name": "stdout",
     "output_type": "stream",
     "text": [
      "Best Parameters:  {'classifier__var_smoothing': 0.08112}\n"
     ]
    }
   ],
   "source": [
    "# Print the best parameters\n",
    "print(\"Best Parameters: \", grid_search.best_params_)"
   ]
  },
  {
   "cell_type": "code",
   "execution_count": 19,
   "id": "d3aab8b8-c9b9-4a4b-a7e4-356e479c24c1",
   "metadata": {},
   "outputs": [],
   "source": [
    "# Predict on the test set using the best model\n",
    "y_pred = grid_search.predict(X_test)"
   ]
  },
  {
   "cell_type": "code",
   "execution_count": 20,
   "id": "21b13f07-cab6-442d-800d-c7be92a93e8b",
   "metadata": {},
   "outputs": [
    {
     "name": "stdout",
     "output_type": "stream",
     "text": [
      "Model Accuracy:  0.9135545615312598\n",
      "              precision    recall  f1-score   support\n",
      "\n",
      "           0       0.95      0.96      0.95     17525\n",
      "           1       0.51      0.46      0.48      1701\n",
      "\n",
      "    accuracy                           0.91     19226\n",
      "   macro avg       0.73      0.71      0.72     19226\n",
      "weighted avg       0.91      0.91      0.91     19226\n",
      "\n"
     ]
    }
   ],
   "source": [
    "# Evaluate the model\n",
    "print(\"Model Accuracy: \", accuracy_score(y_test, y_pred))\n",
    "print(classification_report(y_test, y_pred))"
   ]
  }
 ],
 "metadata": {
  "kernelspec": {
   "display_name": "Python 3 (ipykernel)",
   "language": "python",
   "name": "python3"
  },
  "language_info": {
   "codemirror_mode": {
    "name": "ipython",
    "version": 3
   },
   "file_extension": ".py",
   "mimetype": "text/x-python",
   "name": "python",
   "nbconvert_exporter": "python",
   "pygments_lexer": "ipython3",
   "version": "3.11.2"
  }
 },
 "nbformat": 4,
 "nbformat_minor": 5
}
